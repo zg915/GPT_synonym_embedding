{
 "cells": [
  {
   "cell_type": "code",
   "execution_count": 21,
   "metadata": {},
   "outputs": [],
   "source": [
    "import pandas as pd\n",
    "from nltk.corpus import wordnet as wn\n",
    "from nltk.corpus import stopwords\n",
    "import random"
   ]
  },
  {
   "cell_type": "markdown",
   "metadata": {},
   "source": [
    "### Read Data"
   ]
  },
  {
   "cell_type": "code",
   "execution_count": 22,
   "metadata": {},
   "outputs": [],
   "source": [
    "df = pd.read_excel(\"data/wordFrequency.xlsx\", sheet_name = \"1 lemmas\", index_col = \"rank\")\n",
    "df = df[[\"lemma\", \"PoS\", \"freq\"]]\n",
    "df[\"lemma\"] = df[\"lemma\"].str.lower()"
   ]
  },
  {
   "cell_type": "markdown",
   "metadata": {},
   "source": [
    "### Filter PoS"
   ]
  },
  {
   "cell_type": "code",
   "execution_count": 23,
   "metadata": {},
   "outputs": [],
   "source": [
    "stop_words = set(stopwords.words('english'))\n",
    "df = df[~df[\"lemma\"].isin(stop_words)]\n",
    "df = df[df[\"PoS\"].isin([\"n\", \"v\", \"j\", \"r\"])]\n",
    "df[\"PoS\"] = df[\"PoS\"].replace({\"n\": wn.NOUN, \"v\": wn.VERB, \"j\": wn.ADJ, \"r\": wn.ADV})"
   ]
  },
  {
   "cell_type": "markdown",
   "metadata": {},
   "source": [
    "### Generate Synonym"
   ]
  },
  {
   "cell_type": "code",
   "execution_count": 24,
   "metadata": {},
   "outputs": [],
   "source": [
    "def get_synonym(word, pos):\n",
    "    try:\n",
    "      synsets = wn.synsets(word, pos)\n",
    "      random.shuffle(synsets)\n",
    "      for synset in synsets:\n",
    "            lemmas = synset.lemmas()\n",
    "            random.shuffle(lemmas)\n",
    "            for lemma in lemmas:\n",
    "                  lemma = lemma.name()\n",
    "                  if lemma.isalpha() and lemma != word:\n",
    "                        return lemma, synset\n",
    "    except:\n",
    "          pass\n",
    "    return None, None"
   ]
  },
  {
   "cell_type": "code",
   "execution_count": 25,
   "metadata": {},
   "outputs": [],
   "source": [
    "df[\"synonym\"] = None\n",
    "df[\"synset\"] = None\n",
    "for idx, row in df.iterrows():\n",
    "    df.loc[idx, \"synonym\"], df.loc[idx, \"synset\"] = get_synonym(df.loc[idx, \"lemma\"], df.loc[idx, \"PoS\"])"
   ]
  },
  {
   "cell_type": "code",
   "execution_count": 26,
   "metadata": {},
   "outputs": [],
   "source": [
    "df = df.dropna(axis = 0, how = \"any\")"
   ]
  },
  {
   "cell_type": "markdown",
   "metadata": {},
   "source": [
    "### Generate Random Pairs"
   ]
  },
  {
   "cell_type": "code",
   "execution_count": 27,
   "metadata": {},
   "outputs": [],
   "source": [
    "random_word_dic = {wn.NOUN: list(wn.all_synsets(\"n\")),\n",
    "                   wn.VERB: list(wn.all_synsets(\"v\")),\n",
    "                   wn.ADJ: list(wn.all_synsets(\"a\")),\n",
    "                   wn.ADV: list(wn.all_synsets(\"r\"))}"
   ]
  },
  {
   "cell_type": "code",
   "execution_count": 28,
   "metadata": {},
   "outputs": [],
   "source": [
    "def get_random_word_by_pos(pos, target_word):\n",
    "    synsets = random_word_dic[pos]\n",
    "    while True:\n",
    "            random_synset = random.choice(synsets)\n",
    "            random_word = random.choice(random_synset.lemmas()).name()\n",
    "            if random_word.isalpha() and random_word != target_word: \n",
    "                return random_word\n",
    "    return None"
   ]
  },
  {
   "cell_type": "code",
   "execution_count": 29,
   "metadata": {},
   "outputs": [],
   "source": [
    "df[\"random\"] = None\n",
    "for idx, row in df.iterrows():\n",
    "    df.loc[idx, \"random\"]= get_random_word_by_pos(df.loc[idx, \"PoS\"], df.loc[idx, \"lemma\"])"
   ]
  },
  {
   "cell_type": "code",
   "execution_count": 30,
   "metadata": {},
   "outputs": [
    {
     "data": {
      "text/html": [
       "<div>\n",
       "<style scoped>\n",
       "    .dataframe tbody tr th:only-of-type {\n",
       "        vertical-align: middle;\n",
       "    }\n",
       "\n",
       "    .dataframe tbody tr th {\n",
       "        vertical-align: top;\n",
       "    }\n",
       "\n",
       "    .dataframe thead th {\n",
       "        text-align: right;\n",
       "    }\n",
       "</style>\n",
       "<table border=\"1\" class=\"dataframe\">\n",
       "  <thead>\n",
       "    <tr style=\"text-align: right;\">\n",
       "      <th></th>\n",
       "      <th>lemma</th>\n",
       "      <th>PoS</th>\n",
       "      <th>freq</th>\n",
       "      <th>synonym</th>\n",
       "      <th>synset</th>\n",
       "      <th>random</th>\n",
       "    </tr>\n",
       "    <tr>\n",
       "      <th>rank</th>\n",
       "      <th></th>\n",
       "      <th></th>\n",
       "      <th></th>\n",
       "      <th></th>\n",
       "      <th></th>\n",
       "      <th></th>\n",
       "    </tr>\n",
       "  </thead>\n",
       "  <tbody>\n",
       "    <tr>\n",
       "      <th>26</th>\n",
       "      <td>say</td>\n",
       "      <td>v</td>\n",
       "      <td>4096416</td>\n",
       "      <td>state</td>\n",
       "      <td>Synset('state.v.01')</td>\n",
       "      <td>emplane</td>\n",
       "    </tr>\n",
       "    <tr>\n",
       "      <th>31</th>\n",
       "      <td>go</td>\n",
       "      <td>v</td>\n",
       "      <td>3546732</td>\n",
       "      <td>last</td>\n",
       "      <td>Synset('survive.v.01')</td>\n",
       "      <td>vellicate</td>\n",
       "    </tr>\n",
       "    <tr>\n",
       "      <th>34</th>\n",
       "      <td>get</td>\n",
       "      <td>v</td>\n",
       "      <td>3347615</td>\n",
       "      <td>contract</td>\n",
       "      <td>Synset('contract.v.04')</td>\n",
       "      <td>report</td>\n",
       "    </tr>\n",
       "    <tr>\n",
       "      <th>39</th>\n",
       "      <td>know</td>\n",
       "      <td>v</td>\n",
       "      <td>2761628</td>\n",
       "      <td>cognise</td>\n",
       "      <td>Synset('know.v.01')</td>\n",
       "      <td>saccharify</td>\n",
       "    </tr>\n",
       "    <tr>\n",
       "      <th>50</th>\n",
       "      <td>make</td>\n",
       "      <td>v</td>\n",
       "      <td>2290830</td>\n",
       "      <td>produce</td>\n",
       "      <td>Synset('produce.v.02')</td>\n",
       "      <td>trespass</td>\n",
       "    </tr>\n",
       "  </tbody>\n",
       "</table>\n",
       "</div>"
      ],
      "text/plain": [
       "     lemma PoS     freq   synonym                   synset      random\n",
       "rank                                                                  \n",
       "26     say   v  4096416     state     Synset('state.v.01')     emplane\n",
       "31      go   v  3546732      last   Synset('survive.v.01')   vellicate\n",
       "34     get   v  3347615  contract  Synset('contract.v.04')      report\n",
       "39    know   v  2761628   cognise      Synset('know.v.01')  saccharify\n",
       "50    make   v  2290830   produce   Synset('produce.v.02')    trespass"
      ]
     },
     "execution_count": 30,
     "metadata": {},
     "output_type": "execute_result"
    }
   ],
   "source": [
    "df[\"lemma\"] = df[\"lemma\"].str.lower()\n",
    "df[\"synonym\"] = df[\"synonym\"].str.lower()\n",
    "df[\"random\"] = df[\"random\"].str.lower()\n",
    "df.head()"
   ]
  },
  {
   "cell_type": "code",
   "execution_count": 31,
   "metadata": {},
   "outputs": [],
   "source": [
    "df.to_csv(\"data/4000_word_pairs.csv\")"
   ]
  }
 ],
 "metadata": {
  "kernelspec": {
   "display_name": "general",
   "language": "python",
   "name": "python3"
  },
  "language_info": {
   "codemirror_mode": {
    "name": "ipython",
    "version": 3
   },
   "file_extension": ".py",
   "mimetype": "text/x-python",
   "name": "python",
   "nbconvert_exporter": "python",
   "pygments_lexer": "ipython3",
   "version": "3.11.4"
  }
 },
 "nbformat": 4,
 "nbformat_minor": 2
}
