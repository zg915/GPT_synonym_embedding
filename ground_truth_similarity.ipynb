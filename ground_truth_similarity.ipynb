{
 "cells": [
  {
   "cell_type": "code",
   "execution_count": 96,
   "metadata": {},
   "outputs": [],
   "source": [
    "import pandas as pd\n",
    "import nltk\n",
    "from nltk.corpus import wordnet as wn\n",
    "from nltk.corpus import wordnet_ic\n",
    "from IPython import display\n",
    "import matplotlib.pyplot as plt"
   ]
  },
  {
   "cell_type": "code",
   "execution_count": 97,
   "metadata": {},
   "outputs": [],
   "source": [
    "ic = wordnet_ic.ic(\"ic-brown-resnik-add1.dat\")"
   ]
  },
  {
   "cell_type": "code",
   "execution_count": 98,
   "metadata": {},
   "outputs": [],
   "source": [
    "df = pd.read_csv(\"data/464_complete_data.csv\")\n",
    "df.drop(columns=\"Unnamed: 0\", inplace=True)\n",
    "df = df.rename(columns={\n",
    "    'human_similarity': 'human',\n",
    "    'gpt_similarity_left': 'gpt_left',\n",
    "    'gpt_similarity_right': 'gpt_right',\n",
    "    'gpt_similarity': 'gpt'\n",
    "})"
   ]
  },
  {
   "cell_type": "code",
   "execution_count": 99,
   "metadata": {},
   "outputs": [
    {
     "data": {
      "text/html": [
       "<div>\n",
       "<style scoped>\n",
       "    .dataframe tbody tr th:only-of-type {\n",
       "        vertical-align: middle;\n",
       "    }\n",
       "\n",
       "    .dataframe tbody tr th {\n",
       "        vertical-align: top;\n",
       "    }\n",
       "\n",
       "    .dataframe thead th {\n",
       "        text-align: right;\n",
       "    }\n",
       "</style>\n",
       "<table border=\"1\" class=\"dataframe\">\n",
       "  <thead>\n",
       "    <tr style=\"text-align: right;\">\n",
       "      <th></th>\n",
       "      <th>word1</th>\n",
       "      <th>word2</th>\n",
       "      <th>human</th>\n",
       "      <th>gpt_left</th>\n",
       "      <th>gpt_right</th>\n",
       "      <th>gpt</th>\n",
       "    </tr>\n",
       "  </thead>\n",
       "  <tbody>\n",
       "    <tr>\n",
       "      <th>0</th>\n",
       "      <td>scholar</td>\n",
       "      <td>academician</td>\n",
       "      <td>5.42</td>\n",
       "      <td>0.850105</td>\n",
       "      <td>0.853856</td>\n",
       "      <td>0.851981</td>\n",
       "    </tr>\n",
       "    <tr>\n",
       "      <th>1</th>\n",
       "      <td>review</td>\n",
       "      <td>critique</td>\n",
       "      <td>5.41</td>\n",
       "      <td>0.822096</td>\n",
       "      <td>0.828070</td>\n",
       "      <td>0.825083</td>\n",
       "    </tr>\n",
       "    <tr>\n",
       "      <th>2</th>\n",
       "      <td>refund</td>\n",
       "      <td>reimbursement</td>\n",
       "      <td>5.41</td>\n",
       "      <td>0.812315</td>\n",
       "      <td>0.810235</td>\n",
       "      <td>0.811275</td>\n",
       "    </tr>\n",
       "    <tr>\n",
       "      <th>3</th>\n",
       "      <td>haven</td>\n",
       "      <td>refuge</td>\n",
       "      <td>5.41</td>\n",
       "      <td>0.669938</td>\n",
       "      <td>0.703791</td>\n",
       "      <td>0.686865</td>\n",
       "    </tr>\n",
       "    <tr>\n",
       "      <th>4</th>\n",
       "      <td>rebel</td>\n",
       "      <td>revolutionary</td>\n",
       "      <td>5.40</td>\n",
       "      <td>0.808106</td>\n",
       "      <td>0.810149</td>\n",
       "      <td>0.809128</td>\n",
       "    </tr>\n",
       "  </tbody>\n",
       "</table>\n",
       "</div>"
      ],
      "text/plain": [
       "     word1          word2  human  gpt_left  gpt_right       gpt\n",
       "0  scholar    academician   5.42  0.850105   0.853856  0.851981\n",
       "1   review       critique   5.41  0.822096   0.828070  0.825083\n",
       "2   refund  reimbursement   5.41  0.812315   0.810235  0.811275\n",
       "3    haven         refuge   5.41  0.669938   0.703791  0.686865\n",
       "4    rebel  revolutionary   5.40  0.808106   0.810149  0.809128"
      ]
     },
     "execution_count": 99,
     "metadata": {},
     "output_type": "execute_result"
    }
   ],
   "source": [
    "df.head()"
   ]
  },
  {
   "cell_type": "markdown",
   "metadata": {},
   "source": [
    "### Most Common (first) Synset Similarity using WUP"
   ]
  },
  {
   "cell_type": "code",
   "execution_count": 100,
   "metadata": {},
   "outputs": [],
   "source": [
    "def wup_common(word1, word2):\n",
    "    try:\n",
    "        synset1 = wn.synsets(word1, pos=wn.NOUN)[0]  # First synset for 'dog'\n",
    "        synset2 = wn.synsets(word2, pos=wn.NOUN)[0]  # First synset for 'wolf'\n",
    "\n",
    "        # Compare similarity using Wu-Palmer similarity measure\n",
    "        return synset1.wup_similarity(synset2)\n",
    "    except:\n",
    "        return -1"
   ]
  },
  {
   "cell_type": "markdown",
   "metadata": {},
   "source": [
    "### Average Similarity using WUP"
   ]
  },
  {
   "cell_type": "code",
   "execution_count": 101,
   "metadata": {},
   "outputs": [],
   "source": [
    "def wup_average(word1, word2):\n",
    "    synsets_word1 = wn.synsets(word1, pos=wn.NOUN)\n",
    "    synsets_word2 = wn.synsets(word2, pos=wn.NOUN)\n",
    "    scores = []\n",
    "    for s1 in synsets_word1:\n",
    "        for s2 in synsets_word2:\n",
    "            score = s1.wup_similarity(s2)\n",
    "            if score is not None:\n",
    "                scores.append(score)\n",
    "    return sum(scores) / len(scores) if scores else -1"
   ]
  },
  {
   "cell_type": "markdown",
   "metadata": {},
   "source": [
    "### Most Common (first) Synset Similarity using LIN"
   ]
  },
  {
   "cell_type": "code",
   "execution_count": 102,
   "metadata": {},
   "outputs": [],
   "source": [
    "def lin_common(word1, word2):\n",
    "    try:\n",
    "        synset1 = wn.synsets(word1, pos=wn.NOUN)[0]  # First synset for 'dog'\n",
    "        synset2 = wn.synsets(word2, pos=wn.NOUN)[0]  # First synset for 'wolf'\n",
    "\n",
    "        # Compare similarity using Wu-Palmer similarity measure\n",
    "        return  synset1.lin_similarity(synset2, ic)\n",
    "    except:\n",
    "        return -1"
   ]
  },
  {
   "cell_type": "markdown",
   "metadata": {},
   "source": [
    "### Average Similarity using LIN"
   ]
  },
  {
   "cell_type": "code",
   "execution_count": 103,
   "metadata": {},
   "outputs": [],
   "source": [
    "def lin_average(word1, word2):\n",
    "    synsets_word1 = wn.synsets(word1, pos=wn.NOUN)\n",
    "    synsets_word2 = wn.synsets(word2, pos=wn.NOUN)\n",
    "    scores = []\n",
    "    for s1 in synsets_word1:\n",
    "        for s2 in synsets_word2:\n",
    "            score = s1.lin_similarity(s2, ic)\n",
    "            if score is not None:\n",
    "                scores.append(score)\n",
    "\n",
    "    return sum(scores) / len(scores) if scores else -1"
   ]
  },
  {
   "cell_type": "markdown",
   "metadata": {},
   "source": [
    "### Run"
   ]
  },
  {
   "cell_type": "code",
   "execution_count": 104,
   "metadata": {},
   "outputs": [
    {
     "name": "stdout",
     "output_type": "stream",
     "text": [
      "99.78%\n"
     ]
    }
   ],
   "source": [
    "df[\"wup_common\"] = None\n",
    "df[\"wup_average\"] = None\n",
    "df[\"lin_common\"] = None\n",
    "df[\"lin_average\"] = None\n",
    "for idx, row in df.iterrows():\n",
    "    word1 = row[\"word1\"]\n",
    "    word2 = row[\"word2\"]\n",
    "\n",
    "    df.loc[idx, \"wup_common\"] = wup_common(word1, word2)\n",
    "    df.loc[idx, \"wup_average\"] = wup_average(word1, word2)\n",
    "    df.loc[idx, \"lin_common\"] = lin_common(word1, word2)\n",
    "    df.loc[idx, \"lin_average\"] = lin_average(word1, word2)\n",
    "\n",
    "    print('{:.2%}'.format(idx/464))\n",
    "    display.clear_output(wait=True)"
   ]
  },
  {
   "cell_type": "code",
   "execution_count": 105,
   "metadata": {},
   "outputs": [],
   "source": [
    "df = df[df[\"wup_common\"] != -1]"
   ]
  },
  {
   "cell_type": "code",
   "execution_count": 106,
   "metadata": {},
   "outputs": [
    {
     "data": {
      "text/plain": [
       "(456, 10)"
      ]
     },
     "execution_count": 106,
     "metadata": {},
     "output_type": "execute_result"
    }
   ],
   "source": [
    "df.shape"
   ]
  },
  {
   "cell_type": "code",
   "execution_count": 108,
   "metadata": {},
   "outputs": [],
   "source": [
    "df.to_csv(\"data/456_complete_data.csv\")"
   ]
  },
  {
   "cell_type": "code",
   "execution_count": null,
   "metadata": {},
   "outputs": [],
   "source": []
  }
 ],
 "metadata": {
  "kernelspec": {
   "display_name": "general",
   "language": "python",
   "name": "python3"
  },
  "language_info": {
   "codemirror_mode": {
    "name": "ipython",
    "version": 3
   },
   "file_extension": ".py",
   "mimetype": "text/x-python",
   "name": "python",
   "nbconvert_exporter": "python",
   "pygments_lexer": "ipython3",
   "version": "3.11.4"
  }
 },
 "nbformat": 4,
 "nbformat_minor": 2
}
