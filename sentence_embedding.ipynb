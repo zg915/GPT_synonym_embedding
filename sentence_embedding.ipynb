{
 "cells": [
  {
   "cell_type": "code",
   "execution_count": 1,
   "metadata": {},
   "outputs": [
    {
     "name": "stderr",
     "output_type": "stream",
     "text": [
      "/Users/tianyuwu/anaconda3/lib/python3.10/site-packages/tqdm/auto.py:21: TqdmWarning: IProgress not found. Please update jupyter and ipywidgets. See https://ipywidgets.readthedocs.io/en/stable/user_install.html\n",
      "  from .autonotebook import tqdm as notebook_tqdm\n"
     ]
    }
   ],
   "source": [
    "from transformers import GPT2Model, GPT2Tokenizer\n",
    "import pandas as pd\n",
    "import numpy as np\n",
    "import torch\n",
    "from vector_embedding import get_word_embeddings, calculate_similarity\n",
    "from scipy.spatial.distance import cosine\n",
    "import matplotlib.pyplot as plt\n",
    "from IPython import display"
   ]
  },
  {
   "cell_type": "code",
   "execution_count": 2,
   "metadata": {},
   "outputs": [],
   "source": [
    "def similarity(sentence, word1, word2, tokenizer, model, function = \"cosine\", layers = 8):\n",
    "    embedding1, embedding2 = get_word_embeddings(sentence, word1, word2, tokenizer, model)\n",
    "    return calculate_similarity(embedding1, embedding2,\n",
    "        similarity_function = function,\n",
    "        layers = layers)"
   ]
  },
  {
   "cell_type": "code",
   "execution_count": 3,
   "metadata": {},
   "outputs": [
    {
     "name": "stderr",
     "output_type": "stream",
     "text": [
      "tokenizer_config.json: 100%|██████████| 26.0/26.0 [00:00<00:00, 76.3kB/s]\n",
      "vocab.json: 100%|██████████| 1.04M/1.04M [00:00<00:00, 11.2MB/s]\n",
      "merges.txt: 100%|██████████| 456k/456k [00:00<00:00, 15.6MB/s]\n",
      "tokenizer.json: 100%|██████████| 1.36M/1.36M [00:00<00:00, 34.4MB/s]\n",
      "config.json: 100%|██████████| 665/665 [00:00<00:00, 7.73MB/s]\n",
      "model.safetensors: 100%|██████████| 548M/548M [00:09<00:00, 55.6MB/s] \n"
     ]
    }
   ],
   "source": [
    "# Load tokenizer and model\n",
    "tokenizer = GPT2Tokenizer.from_pretrained('gpt2')\n",
    "model = GPT2Model.from_pretrained('gpt2', output_hidden_states=True)"
   ]
  },
  {
   "cell_type": "markdown",
   "metadata": {},
   "source": [
    "## ON 4000 pairs"
   ]
  },
  {
   "cell_type": "code",
   "execution_count": 4,
   "metadata": {},
   "outputs": [
    {
     "data": {
      "text/html": [
       "<div>\n",
       "<style scoped>\n",
       "    .dataframe tbody tr th:only-of-type {\n",
       "        vertical-align: middle;\n",
       "    }\n",
       "\n",
       "    .dataframe tbody tr th {\n",
       "        vertical-align: top;\n",
       "    }\n",
       "\n",
       "    .dataframe thead th {\n",
       "        text-align: right;\n",
       "    }\n",
       "</style>\n",
       "<table border=\"1\" class=\"dataframe\">\n",
       "  <thead>\n",
       "    <tr style=\"text-align: right;\">\n",
       "      <th></th>\n",
       "      <th>lemma</th>\n",
       "      <th>PoS</th>\n",
       "      <th>freq</th>\n",
       "      <th>synonym</th>\n",
       "      <th>synset</th>\n",
       "      <th>random</th>\n",
       "    </tr>\n",
       "    <tr>\n",
       "      <th>rank</th>\n",
       "      <th></th>\n",
       "      <th></th>\n",
       "      <th></th>\n",
       "      <th></th>\n",
       "      <th></th>\n",
       "      <th></th>\n",
       "    </tr>\n",
       "  </thead>\n",
       "  <tbody>\n",
       "    <tr>\n",
       "      <th>26</th>\n",
       "      <td>say</td>\n",
       "      <td>v</td>\n",
       "      <td>4096416</td>\n",
       "      <td>tell</td>\n",
       "      <td>Synset('order.v.01')</td>\n",
       "      <td>blanket</td>\n",
       "    </tr>\n",
       "    <tr>\n",
       "      <th>31</th>\n",
       "      <td>go</td>\n",
       "      <td>v</td>\n",
       "      <td>3546732</td>\n",
       "      <td>start</td>\n",
       "      <td>Synset('start.v.09')</td>\n",
       "      <td>blank</td>\n",
       "    </tr>\n",
       "    <tr>\n",
       "      <th>34</th>\n",
       "      <td>get</td>\n",
       "      <td>v</td>\n",
       "      <td>3347615</td>\n",
       "      <td>acquire</td>\n",
       "      <td>Synset('get.v.01')</td>\n",
       "      <td>overhaul</td>\n",
       "    </tr>\n",
       "    <tr>\n",
       "      <th>39</th>\n",
       "      <td>know</td>\n",
       "      <td>v</td>\n",
       "      <td>2761628</td>\n",
       "      <td>recognise</td>\n",
       "      <td>Synset('acknowledge.v.06')</td>\n",
       "      <td>chisel</td>\n",
       "    </tr>\n",
       "    <tr>\n",
       "      <th>50</th>\n",
       "      <td>make</td>\n",
       "      <td>v</td>\n",
       "      <td>2290830</td>\n",
       "      <td>get</td>\n",
       "      <td>Synset('make.v.02')</td>\n",
       "      <td>tickle</td>\n",
       "    </tr>\n",
       "  </tbody>\n",
       "</table>\n",
       "</div>"
      ],
      "text/plain": [
       "     lemma PoS     freq    synonym                      synset    random\n",
       "rank                                                                    \n",
       "26     say   v  4096416       tell        Synset('order.v.01')   blanket\n",
       "31      go   v  3546732      start        Synset('start.v.09')     blank\n",
       "34     get   v  3347615    acquire          Synset('get.v.01')  overhaul\n",
       "39    know   v  2761628  recognise  Synset('acknowledge.v.06')    chisel\n",
       "50    make   v  2290830        get         Synset('make.v.02')    tickle"
      ]
     },
     "execution_count": 4,
     "metadata": {},
     "output_type": "execute_result"
    }
   ],
   "source": [
    "df = pd.read_csv(\"data/4000_word_pairs.csv\", index_col = \"rank\")\n",
    "df.head()"
   ]
  },
  {
   "cell_type": "code",
   "execution_count": 5,
   "metadata": {},
   "outputs": [
    {
     "data": {
      "text/plain": [
       "0"
      ]
     },
     "execution_count": 5,
     "metadata": {},
     "output_type": "execute_result"
    }
   ],
   "source": [
    "df.isna().sum().sum()"
   ]
  },
  {
   "cell_type": "code",
   "execution_count": 6,
   "metadata": {},
   "outputs": [],
   "source": [
    "PoS_map = {\n",
    "    \"n\" : \"nouns\",\n",
    "    \"v\" : \"verbs\",\n",
    "    \"a\" : \"adjectives\",\n",
    "    \"r\" : \"adverbs\"\n",
    "}"
   ]
  },
  {
   "cell_type": "code",
   "execution_count": 8,
   "metadata": {},
   "outputs": [],
   "source": [
    "df[\"random_similarity_left\"] = None\n",
    "df[\"random_similarity_right\"] = None"
   ]
  },
  {
   "cell_type": "code",
   "execution_count": 9,
   "metadata": {},
   "outputs": [
    {
     "name": "stdout",
     "output_type": "stream",
     "text": [
      "100.00%\n"
     ]
    }
   ],
   "source": [
    "for idx, row in df.iterrows():\n",
    "    if row[\"random_similarity_right\"] is not None:\n",
    "\n",
    "        continue\n",
    "    pos = PoS_map[row[\"PoS\"]]\n",
    "    word1 = row[\"lemma\"]\n",
    "    word2 = row[\"random\"]\n",
    "\n",
    "    sentence = \"What is the similarity between the two {0}: {1} and {2}?\".format(pos, word1, word2)\n",
    "    df.loc[idx, \"random_similarity_left\"] = similarity(sentence, word1, word2, tokenizer, model)\n",
    "\n",
    "    sentence = \"What is the similarity between the two {0}: {1} and {2}?\".format(pos, word2, word1)\n",
    "    df.loc[idx, \"random_similarity_right\"] = similarity(sentence, word1, word2, tokenizer, model)\n",
    "    print('{:.2%}'.format(idx/5050))\n",
    "    display.clear_output(wait=True)"
   ]
  },
  {
   "cell_type": "code",
   "execution_count": 10,
   "metadata": {},
   "outputs": [
    {
     "data": {
      "text/html": [
       "<div>\n",
       "<style scoped>\n",
       "    .dataframe tbody tr th:only-of-type {\n",
       "        vertical-align: middle;\n",
       "    }\n",
       "\n",
       "    .dataframe tbody tr th {\n",
       "        vertical-align: top;\n",
       "    }\n",
       "\n",
       "    .dataframe thead th {\n",
       "        text-align: right;\n",
       "    }\n",
       "</style>\n",
       "<table border=\"1\" class=\"dataframe\">\n",
       "  <thead>\n",
       "    <tr style=\"text-align: right;\">\n",
       "      <th></th>\n",
       "      <th>lemma</th>\n",
       "      <th>PoS</th>\n",
       "      <th>freq</th>\n",
       "      <th>synonym</th>\n",
       "      <th>synset</th>\n",
       "      <th>random</th>\n",
       "      <th>random_similarity_left</th>\n",
       "      <th>random_similarity_right</th>\n",
       "    </tr>\n",
       "    <tr>\n",
       "      <th>rank</th>\n",
       "      <th></th>\n",
       "      <th></th>\n",
       "      <th></th>\n",
       "      <th></th>\n",
       "      <th></th>\n",
       "      <th></th>\n",
       "      <th></th>\n",
       "      <th></th>\n",
       "    </tr>\n",
       "  </thead>\n",
       "  <tbody>\n",
       "    <tr>\n",
       "      <th>26</th>\n",
       "      <td>say</td>\n",
       "      <td>v</td>\n",
       "      <td>4096416</td>\n",
       "      <td>tell</td>\n",
       "      <td>Synset('order.v.01')</td>\n",
       "      <td>blanket</td>\n",
       "      <td>0.612346</td>\n",
       "      <td>0.621714</td>\n",
       "    </tr>\n",
       "    <tr>\n",
       "      <th>31</th>\n",
       "      <td>go</td>\n",
       "      <td>v</td>\n",
       "      <td>3546732</td>\n",
       "      <td>start</td>\n",
       "      <td>Synset('start.v.09')</td>\n",
       "      <td>blank</td>\n",
       "      <td>0.592116</td>\n",
       "      <td>0.595401</td>\n",
       "    </tr>\n",
       "    <tr>\n",
       "      <th>34</th>\n",
       "      <td>get</td>\n",
       "      <td>v</td>\n",
       "      <td>3347615</td>\n",
       "      <td>acquire</td>\n",
       "      <td>Synset('get.v.01')</td>\n",
       "      <td>overhaul</td>\n",
       "      <td>0.672227</td>\n",
       "      <td>0.664227</td>\n",
       "    </tr>\n",
       "    <tr>\n",
       "      <th>39</th>\n",
       "      <td>know</td>\n",
       "      <td>v</td>\n",
       "      <td>2761628</td>\n",
       "      <td>recognise</td>\n",
       "      <td>Synset('acknowledge.v.06')</td>\n",
       "      <td>chisel</td>\n",
       "      <td>0.694732</td>\n",
       "      <td>0.695436</td>\n",
       "    </tr>\n",
       "    <tr>\n",
       "      <th>50</th>\n",
       "      <td>make</td>\n",
       "      <td>v</td>\n",
       "      <td>2290830</td>\n",
       "      <td>get</td>\n",
       "      <td>Synset('make.v.02')</td>\n",
       "      <td>tickle</td>\n",
       "      <td>0.678154</td>\n",
       "      <td>0.688789</td>\n",
       "    </tr>\n",
       "    <tr>\n",
       "      <th>...</th>\n",
       "      <td>...</td>\n",
       "      <td>...</td>\n",
       "      <td>...</td>\n",
       "      <td>...</td>\n",
       "      <td>...</td>\n",
       "      <td>...</td>\n",
       "      <td>...</td>\n",
       "      <td>...</td>\n",
       "    </tr>\n",
       "    <tr>\n",
       "      <th>5045</th>\n",
       "      <td>hammer</td>\n",
       "      <td>n</td>\n",
       "      <td>11886</td>\n",
       "      <td>mallet</td>\n",
       "      <td>Synset('mallet.n.02')</td>\n",
       "      <td>pavan</td>\n",
       "      <td>0.665129</td>\n",
       "      <td>0.671332</td>\n",
       "    </tr>\n",
       "    <tr>\n",
       "      <th>5047</th>\n",
       "      <td>persist</td>\n",
       "      <td>v</td>\n",
       "      <td>11880</td>\n",
       "      <td>remain</td>\n",
       "      <td>Synset('persist.v.03')</td>\n",
       "      <td>quest</td>\n",
       "      <td>0.701937</td>\n",
       "      <td>0.701642</td>\n",
       "    </tr>\n",
       "    <tr>\n",
       "      <th>5048</th>\n",
       "      <td>wheat</td>\n",
       "      <td>n</td>\n",
       "      <td>11877</td>\n",
       "      <td>straw</td>\n",
       "      <td>Synset('pale_yellow.n.01')</td>\n",
       "      <td>split</td>\n",
       "      <td>0.61535</td>\n",
       "      <td>0.601472</td>\n",
       "    </tr>\n",
       "    <tr>\n",
       "      <th>5049</th>\n",
       "      <td>predator</td>\n",
       "      <td>n</td>\n",
       "      <td>11876</td>\n",
       "      <td>vulture</td>\n",
       "      <td>Synset('marauder.n.01')</td>\n",
       "      <td>thermometer</td>\n",
       "      <td>0.692239</td>\n",
       "      <td>0.686664</td>\n",
       "    </tr>\n",
       "    <tr>\n",
       "      <th>5050</th>\n",
       "      <td>bizarre</td>\n",
       "      <td>a</td>\n",
       "      <td>11875</td>\n",
       "      <td>outre</td>\n",
       "      <td>Synset('bizarre.s.01')</td>\n",
       "      <td>mindless</td>\n",
       "      <td>0.781564</td>\n",
       "      <td>0.782529</td>\n",
       "    </tr>\n",
       "  </tbody>\n",
       "</table>\n",
       "<p>3982 rows × 8 columns</p>\n",
       "</div>"
      ],
      "text/plain": [
       "         lemma PoS     freq    synonym                      synset  \\\n",
       "rank                                                                 \n",
       "26         say   v  4096416       tell        Synset('order.v.01')   \n",
       "31          go   v  3546732      start        Synset('start.v.09')   \n",
       "34         get   v  3347615    acquire          Synset('get.v.01')   \n",
       "39        know   v  2761628  recognise  Synset('acknowledge.v.06')   \n",
       "50        make   v  2290830        get         Synset('make.v.02')   \n",
       "...        ...  ..      ...        ...                         ...   \n",
       "5045    hammer   n    11886     mallet       Synset('mallet.n.02')   \n",
       "5047   persist   v    11880     remain      Synset('persist.v.03')   \n",
       "5048     wheat   n    11877      straw  Synset('pale_yellow.n.01')   \n",
       "5049  predator   n    11876    vulture     Synset('marauder.n.01')   \n",
       "5050   bizarre   a    11875      outre      Synset('bizarre.s.01')   \n",
       "\n",
       "           random random_similarity_left random_similarity_right  \n",
       "rank                                                              \n",
       "26        blanket               0.612346                0.621714  \n",
       "31          blank               0.592116                0.595401  \n",
       "34       overhaul               0.672227                0.664227  \n",
       "39         chisel               0.694732                0.695436  \n",
       "50         tickle               0.678154                0.688789  \n",
       "...           ...                    ...                     ...  \n",
       "5045        pavan               0.665129                0.671332  \n",
       "5047        quest               0.701937                0.701642  \n",
       "5048        split                0.61535                0.601472  \n",
       "5049  thermometer               0.692239                0.686664  \n",
       "5050     mindless               0.781564                0.782529  \n",
       "\n",
       "[3982 rows x 8 columns]"
      ]
     },
     "execution_count": 10,
     "metadata": {},
     "output_type": "execute_result"
    }
   ],
   "source": [
    "df"
   ]
  },
  {
   "cell_type": "code",
   "execution_count": 15,
   "metadata": {},
   "outputs": [],
   "source": [
    "df[\"synonym_similarity\"] = (df[\"synonym_similarity_left\"] + df[\"synonym_similarity_right\"]) / 2"
   ]
  },
  {
   "cell_type": "code",
   "execution_count": 27,
   "metadata": {},
   "outputs": [],
   "source": [
    "df[\"random_similarity\"] = (df[\"random_similarity_left\"] + df[\"random_similarity_right\"]) / 2"
   ]
  },
  {
   "cell_type": "code",
   "execution_count": 4,
   "metadata": {},
   "outputs": [
    {
     "data": {
      "image/png": "[encoded data removed]",
      "text/plain": [
       "<Figure size 640x480 with 1 Axes>"
      ]
     },
     "metadata": {},
     "output_type": "display_data"
    }
   ],
   "source": [
    "plt.hist(df[\"synonym_similarity\"], bins = 100, alpha = 0.5, label=\"synonym\")\n",
    "plt.hist(df[\"random_similarity\"], bins = 100, alpha = 0.5, label=\"random\")\n",
    "plt.legend()\n",
    "plt.show()"
   ]
  },
  {
   "cell_type": "code",
   "execution_count": 32,
   "metadata": {},
   "outputs": [],
   "source": [
    "# df.to_csv(\"data/4000_complete_data.csv\")"
   ]
  },
  {
   "cell_type": "markdown",
   "metadata": {},
   "source": [
    "## ON 464 pairs"
   ]
  },
  {
   "cell_type": "code",
   "execution_count": 23,
   "metadata": {},
   "outputs": [],
   "source": [
    "df = pd.read_csv(\"data/464_synonym_raw.csv\")\n",
    "df = df.rename(columns={\"Word1\": \"word1\", \"Word2\": \"word2\", \"Grand Mean\": \"human_similarity\"})\n",
    "df[\"word1\"] = df[\"word1\"].str.lower()\n",
    "df[\"word2\"] = df[\"word2\"].str.lower()"
   ]
  },
  {
   "cell_type": "code",
   "execution_count": 26,
   "metadata": {},
   "outputs": [
    {
     "data": {
      "text/html": [
       "<div>\n",
       "<style scoped>\n",
       "    .dataframe tbody tr th:only-of-type {\n",
       "        vertical-align: middle;\n",
       "    }\n",
       "\n",
       "    .dataframe tbody tr th {\n",
       "        vertical-align: top;\n",
       "    }\n",
       "\n",
       "    .dataframe thead th {\n",
       "        text-align: right;\n",
       "    }\n",
       "</style>\n",
       "<table border=\"1\" class=\"dataframe\">\n",
       "  <thead>\n",
       "    <tr style=\"text-align: right;\">\n",
       "      <th></th>\n",
       "      <th>word1</th>\n",
       "      <th>word2</th>\n",
       "      <th>human_similarity</th>\n",
       "      <th>gpt_similarity_left</th>\n",
       "      <th>gpt_similarity_right</th>\n",
       "    </tr>\n",
       "  </thead>\n",
       "  <tbody>\n",
       "    <tr>\n",
       "      <th>0</th>\n",
       "      <td>scholar</td>\n",
       "      <td>academician</td>\n",
       "      <td>5.42</td>\n",
       "      <td>None</td>\n",
       "      <td>None</td>\n",
       "    </tr>\n",
       "    <tr>\n",
       "      <th>1</th>\n",
       "      <td>review</td>\n",
       "      <td>critique</td>\n",
       "      <td>5.41</td>\n",
       "      <td>None</td>\n",
       "      <td>None</td>\n",
       "    </tr>\n",
       "    <tr>\n",
       "      <th>2</th>\n",
       "      <td>refund</td>\n",
       "      <td>reimbursement</td>\n",
       "      <td>5.41</td>\n",
       "      <td>None</td>\n",
       "      <td>None</td>\n",
       "    </tr>\n",
       "    <tr>\n",
       "      <th>3</th>\n",
       "      <td>haven</td>\n",
       "      <td>refuge</td>\n",
       "      <td>5.41</td>\n",
       "      <td>None</td>\n",
       "      <td>None</td>\n",
       "    </tr>\n",
       "    <tr>\n",
       "      <th>4</th>\n",
       "      <td>rebel</td>\n",
       "      <td>revolutionary</td>\n",
       "      <td>5.40</td>\n",
       "      <td>None</td>\n",
       "      <td>None</td>\n",
       "    </tr>\n",
       "  </tbody>\n",
       "</table>\n",
       "</div>"
      ],
      "text/plain": [
       "     word1          word2  human_similarity gpt_similarity_left  \\\n",
       "0  scholar    academician              5.42                None   \n",
       "1   review       critique              5.41                None   \n",
       "2   refund  reimbursement              5.41                None   \n",
       "3    haven         refuge              5.41                None   \n",
       "4    rebel  revolutionary              5.40                None   \n",
       "\n",
       "  gpt_similarity_right  \n",
       "0                 None  \n",
       "1                 None  \n",
       "2                 None  \n",
       "3                 None  \n",
       "4                 None  "
      ]
     },
     "execution_count": 26,
     "metadata": {},
     "output_type": "execute_result"
    }
   ],
   "source": [
    "df.head()"
   ]
  },
  {
   "cell_type": "code",
   "execution_count": 25,
   "metadata": {},
   "outputs": [],
   "source": [
    "df[\"gpt_similarity_left\"] = None\n",
    "df[\"gpt_similarity_right\"] = None"
   ]
  },
  {
   "cell_type": "code",
   "execution_count": 27,
   "metadata": {},
   "outputs": [
    {
     "name": "stdout",
     "output_type": "stream",
     "text": [
      "99.78%\n"
     ]
    }
   ],
   "source": [
    "for idx, row in df.iterrows():\n",
    "    if row[\"gpt_similarity_right\"] is not None:\n",
    "        continue\n",
    "    pos = \"nouns\"\n",
    "    word1 = row[\"word1\"]\n",
    "    word2 = row[\"word2\"]\n",
    "\n",
    "    sentence = \"What is the similarity between the two {0}: {1} and {2}?\".format(pos, word1, word2)\n",
    "    df.loc[idx, \"gpt_similarity_left\"] = similarity(sentence, word1, word2, tokenizer, model)\n",
    "\n",
    "    sentence = \"What is the similarity between the two {0}: {1} and {2}?\".format(pos, word2, word1)\n",
    "    df.loc[idx, \"gpt_similarity_right\"] = similarity(sentence, word1, word2, tokenizer, model)\n",
    "    print('{:.2%}'.format(idx/464))\n",
    "    display.clear_output(wait=True)"
   ]
  },
  {
   "cell_type": "code",
   "execution_count": 28,
   "metadata": {},
   "outputs": [],
   "source": [
    "df[\"gpt_similarity\"] = (df[\"gpt_similarity_left\"] + df[\"gpt_similarity_right\"]) / 2"
   ]
  },
  {
   "cell_type": "code",
   "execution_count": 35,
   "metadata": {},
   "outputs": [],
   "source": [
    "# df.to_csv(\"data/464_complete_data\")"
   ]
  }
 ],
 "metadata": {
  "kernelspec": {
   "display_name": "general",
   "language": "python",
   "name": "python3"
  },
  "language_info": {
   "codemirror_mode": {
    "name": "ipython",
    "version": 3
   },
   "file_extension": ".py",
   "mimetype": "text/x-python",
   "name": "python",
   "nbconvert_exporter": "python",
   "pygments_lexer": "ipython3",
   "version": "3.10.13"
  }
 },
 "nbformat": 4,
 "nbformat_minor": 2
}
