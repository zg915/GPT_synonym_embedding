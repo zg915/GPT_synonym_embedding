{
 "cells": [
  {
   "cell_type": "code",
   "execution_count": 1,
   "metadata": {},
   "outputs": [],
   "source": [
    "from transformers import GPT2Model, GPT2Tokenizer\n",
    "import pandas as pd\n",
    "import numpy as np\n",
    "import torch\n",
    "from scipy.spatial.distance import cosine\n",
    "import matplotlib.pyplot as plt"
   ]
  },
  {
   "cell_type": "code",
   "execution_count": 2,
   "metadata": {},
   "outputs": [],
   "source": [
    "def cosine_similarity(embeddings1, embeddings2):\n",
    "    # Calculate cosine similarities for each corresponding layer's embeddings\n",
    "    cosine_similarity = [1 - cosine(embedding1, embedding2) for embedding1, embedding2 in zip(embeddings1, embeddings2)]\n",
    "    return cosine_similarity"
   ]
  },
  {
   "cell_type": "code",
   "execution_count": 3,
   "metadata": {},
   "outputs": [],
   "source": [
    "def euclidean_distances(embeddings1, embeddings2):\n",
    "\n",
    "    if len(embeddings1) != len(embeddings2):\n",
    "        raise ValueError(\"Both embeddings lists should have the same number of layers.\")\n",
    "\n",
    "    # Calculate Euclidean distance for each layer\n",
    "    euclidean_distances = [np.linalg.norm(embedding1 - embedding2) for embedding1, embedding2 in zip(embeddings1, embeddings2)]\n",
    "    return euclidean_distances"
   ]
  },
  {
   "cell_type": "code",
   "execution_count": 4,
   "metadata": {},
   "outputs": [],
   "source": [
    "def get_word_embeddings_without_subword(sentence, word1, word2, tokenizer, model):\n",
    "    # Tokenize input text and convert to IDs\n",
    "    inputs = tokenizer(sentence, return_tensors=\"pt\")\n",
    "    token_ids = inputs['input_ids'].squeeze().tolist()  # Convert tensor to list of token IDs\n",
    "    tokens = tokenizer.convert_ids_to_tokens(token_ids)  # Convert token IDs to tokens\n",
    "\n",
    "    # Find indices of tokens corresponding to the target words\n",
    "    indices_word1 = [i for i, token in enumerate(tokens) if word1 in token]\n",
    "    indices_word2 = [i for i, token in enumerate(tokens) if word2 in token]\n",
    "\n",
    "    # Get model output\n",
    "    outputs = model(**inputs)\n",
    "    hidden_states = outputs.hidden_states  # Tuple of hidden states from each layer\n",
    "\n",
    "    # Extract embeddings for each target word from each layer\n",
    "    embeddings_word1 = [hidden_states[layer][0, idx].detach().numpy() for layer in range(len(hidden_states)) for idx in indices_word1]\n",
    "    embeddings_word2 = [hidden_states[layer][0, idx].detach().numpy() for layer in range(len(hidden_states)) for idx in indices_word2]\n",
    "\n",
    "    return embeddings_word1, embeddings_word2"
   ]
  },
  {
   "cell_type": "code",
   "execution_count": 14,
   "metadata": {},
   "outputs": [],
   "source": [
    "def get_word_embeddings(sentence, word1, word2, tokenizer, model):\n",
    "    # Tokenize input text and convert to IDs\n",
    "    inputs = tokenizer(sentence, return_tensors=\"pt\")\n",
    "    token_ids = inputs['input_ids'].squeeze().tolist()\n",
    "    tokens = tokenizer.convert_ids_to_tokens(token_ids)\n",
    "\n",
    "    # Prepare model and get output\n",
    "    model_output = model(**inputs, output_hidden_states=True)\n",
    "    hidden_states = model_output.hidden_states\n",
    "\n",
    "    # Function to find and aggregate subword embeddings\n",
    "    def aggregate_embeddings(word):\n",
    "        # Include the 'Ġ' prefix for matching the start of words\n",
    "        word_tokens = tokenizer.tokenize(' ' + word)  # Added space to ensure prefix\n",
    "        indices = [i for i in range(len(tokens)) if tokens[i:i+len(word_tokens)] == word_tokens]\n",
    "\n",
    "        # Flatten the list to capture all indices of subword tokens in range\n",
    "        flattened_indices = [idx for i in indices for idx in range(i, i + len(word_tokens))]\n",
    "        if not flattened_indices:\n",
    "            return []\n",
    "        # Average embeddings across subword tokens for each layer\n",
    "        return [hidden_states[layer][0, flattened_indices].mean(dim=0).detach().numpy() \n",
    "                for layer in range(len(hidden_states))]\n",
    "\n",
    "    embeddings_word1 = aggregate_embeddings(word1)\n",
    "    embeddings_word2 = aggregate_embeddings(word2)\n",
    "\n",
    "    return embeddings_word1, embeddings_word2"
   ]
  },
  {
   "cell_type": "code",
   "execution_count": 15,
   "metadata": {},
   "outputs": [],
   "source": [
    "# Load tokenizer and model\n",
    "tokenizer = GPT2Tokenizer.from_pretrained('gpt2')\n",
    "model = GPT2Model.from_pretrained('gpt2', output_hidden_states=True)"
   ]
  },
  {
   "cell_type": "code",
   "execution_count": 16,
   "metadata": {},
   "outputs": [
    {
     "data": {
      "text/html": [
       "<div>\n",
       "<style scoped>\n",
       "    .dataframe tbody tr th:only-of-type {\n",
       "        vertical-align: middle;\n",
       "    }\n",
       "\n",
       "    .dataframe tbody tr th {\n",
       "        vertical-align: top;\n",
       "    }\n",
       "\n",
       "    .dataframe thead th {\n",
       "        text-align: right;\n",
       "    }\n",
       "</style>\n",
       "<table border=\"1\" class=\"dataframe\">\n",
       "  <thead>\n",
       "    <tr style=\"text-align: right;\">\n",
       "      <th></th>\n",
       "      <th>lemma</th>\n",
       "      <th>PoS</th>\n",
       "      <th>freq</th>\n",
       "      <th>synonym</th>\n",
       "      <th>synset</th>\n",
       "    </tr>\n",
       "    <tr>\n",
       "      <th>rank</th>\n",
       "      <th></th>\n",
       "      <th></th>\n",
       "      <th></th>\n",
       "      <th></th>\n",
       "      <th></th>\n",
       "    </tr>\n",
       "  </thead>\n",
       "  <tbody>\n",
       "    <tr>\n",
       "      <th>26</th>\n",
       "      <td>say</td>\n",
       "      <td>v</td>\n",
       "      <td>4096416</td>\n",
       "      <td>tell</td>\n",
       "      <td>Synset('state.v.01')</td>\n",
       "    </tr>\n",
       "    <tr>\n",
       "      <th>31</th>\n",
       "      <td>go</td>\n",
       "      <td>v</td>\n",
       "      <td>3546732</td>\n",
       "      <td>belong</td>\n",
       "      <td>Synset('belong.v.03')</td>\n",
       "    </tr>\n",
       "    <tr>\n",
       "      <th>34</th>\n",
       "      <td>get</td>\n",
       "      <td>v</td>\n",
       "      <td>3347615</td>\n",
       "      <td>convey</td>\n",
       "      <td>Synset('bring.v.04')</td>\n",
       "    </tr>\n",
       "    <tr>\n",
       "      <th>39</th>\n",
       "      <td>know</td>\n",
       "      <td>v</td>\n",
       "      <td>2761628</td>\n",
       "      <td>NaN</td>\n",
       "      <td>NaN</td>\n",
       "    </tr>\n",
       "    <tr>\n",
       "      <th>49</th>\n",
       "      <td>would</td>\n",
       "      <td>v</td>\n",
       "      <td>2349400</td>\n",
       "      <td>NaN</td>\n",
       "      <td>NaN</td>\n",
       "    </tr>\n",
       "  </tbody>\n",
       "</table>\n",
       "</div>"
      ],
      "text/plain": [
       "      lemma PoS     freq synonym                 synset\n",
       "rank                                                   \n",
       "26      say   v  4096416    tell   Synset('state.v.01')\n",
       "31       go   v  3546732  belong  Synset('belong.v.03')\n",
       "34      get   v  3347615  convey   Synset('bring.v.04')\n",
       "39     know   v  2761628     NaN                    NaN\n",
       "49    would   v  2349400     NaN                    NaN"
      ]
     },
     "execution_count": 16,
     "metadata": {},
     "output_type": "execute_result"
    }
   ],
   "source": [
    "df = pd.read_csv(\"data/5000_synonym.csv\", index_col = \"rank\")\n",
    "df.head()"
   ]
  },
  {
   "cell_type": "code",
   "execution_count": 21,
   "metadata": {},
   "outputs": [],
   "source": [
    "# Example usage\n",
    "pos = \"nouns\"\n",
    "word1 = \"leader\"\n",
    "word2 = \"forerunner\"\n",
    "sentence = \"What is the similarity between {0} {1} and {2}\".format(pos, word1, word2)\n",
    "embeddings_word1, embeddings_word2 = get_word_embeddings(sentence, word1, word2, tokenizer, model)"
   ]
  },
  {
   "cell_type": "code",
   "execution_count": 22,
   "metadata": {},
   "outputs": [],
   "source": [
    "c = cosine_similarity(embeddings_word1, embeddings_word2)"
   ]
  },
  {
   "cell_type": "code",
   "execution_count": 23,
   "metadata": {},
   "outputs": [
    {
     "data": {
      "text/plain": [
       "Text(0, 0.5, 'Cosine Similarity')"
      ]
     },
     "execution_count": 23,
     "metadata": {},
     "output_type": "execute_result"
    },
    {
     "data": {
      "image/png": "[encoded data removed]",
      "text/plain": [
       "<Figure size 1000x400 with 1 Axes>"
      ]
     },
     "metadata": {},
     "output_type": "display_data"
    }
   ],
   "source": [
    "plt.figure(figsize=(10,4))\n",
    "plt.title(\"Cosine Similarity across Layers\")\n",
    "plt.plot(c)\n",
    "plt.xlabel(\"Layers\")\n",
    "plt.ylabel(\"Cosine Similarity\")\n",
    "# plt.ylim([0.5, 1.05])"
   ]
  },
  {
   "cell_type": "code",
   "execution_count": 24,
   "metadata": {},
   "outputs": [
    {
     "data": {
      "text/plain": [
       "[0.7325100898742676,\n",
       " 0.7785689830780029,\n",
       " 0.7188116312026978,\n",
       " 0.6932660341262817,\n",
       " 0.6558870077133179,\n",
       " 0.6813659071922302,\n",
       " 0.6633538007736206,\n",
       " 0.6802184581756592,\n",
       " 0.7057722806930542,\n",
       " 0.7383016347885132,\n",
       " 0.7674803137779236,\n",
       " 0.8624678254127502,\n",
       " 0.9847827553749084]"
      ]
     },
     "execution_count": 24,
     "metadata": {},
     "output_type": "execute_result"
    }
   ],
   "source": [
    "c"
   ]
  },
  {
   "cell_type": "code",
   "execution_count": null,
   "metadata": {},
   "outputs": [],
   "source": []
  }
 ],
 "metadata": {
  "kernelspec": {
   "display_name": "general",
   "language": "python",
   "name": "python3"
  },
  "language_info": {
   "codemirror_mode": {
    "name": "ipython",
    "version": 3
   },
   "file_extension": ".py",
   "mimetype": "text/x-python",
   "name": "python",
   "nbconvert_exporter": "python",
   "pygments_lexer": "ipython3",
   "version": "3.11.4"
  }
 },
 "nbformat": 4,
 "nbformat_minor": 2
}
