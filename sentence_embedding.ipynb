{
 "cells": [
  {
   "cell_type": "code",
   "execution_count": 116,
   "metadata": {},
   "outputs": [],
   "source": [
    "from transformers import GPT2Model, GPT2Tokenizer\n",
    "import pandas as pd\n",
    "import numpy as np\n",
    "import torch\n",
    "from scipy.spatial.distance import cosine\n",
    "import matplotlib.pyplot as plt"
   ]
  },
  {
   "cell_type": "code",
   "execution_count": 117,
   "metadata": {},
   "outputs": [],
   "source": [
    "def cosine_similarity(embeddings1, embeddings2):\n",
    "    # Calculate cosine similarities for each corresponding layer's embeddings\n",
    "    cosine_similarity = [1 - cosine(embedding1, embedding2) for embedding1, embedding2 in zip(embeddings1, embeddings2)]\n",
    "    return cosine_similarity"
   ]
  },
  {
   "cell_type": "code",
   "execution_count": 118,
   "metadata": {},
   "outputs": [],
   "source": [
    "def euclidean_distances(embeddings1, embeddings2):\n",
    "\n",
    "    if len(embeddings1) != len(embeddings2):\n",
    "        raise ValueError(\"Both embeddings lists should have the same number of layers.\")\n",
    "\n",
    "    # Calculate Euclidean distance for each layer\n",
    "    euclidean_distances = [np.linalg.norm(embedding1 - embedding2) for embedding1, embedding2 in zip(embeddings1, embeddings2)]\n",
    "    return euclidean_distances"
   ]
  },
  {
   "cell_type": "code",
   "execution_count": 119,
   "metadata": {},
   "outputs": [],
   "source": [
    "def get_word_embeddings(sentence, word1, word2, tokenizer, model):\n",
    "    # Tokenize input text and convert to IDs\n",
    "    inputs = tokenizer(sentence, return_tensors=\"pt\")\n",
    "    token_ids = inputs['input_ids'].squeeze().tolist()  # Convert tensor to list of token IDs\n",
    "    tokens = tokenizer.convert_ids_to_tokens(token_ids)  # Convert token IDs to tokens\n",
    "\n",
    "    # Find indices of tokens corresponding to the target words\n",
    "    indices_word1 = [i for i, token in enumerate(tokens) if word1 in token]\n",
    "    indices_word2 = [i for i, token in enumerate(tokens) if word2 in token]\n",
    "\n",
    "    # Get model output\n",
    "    outputs = model(**inputs)\n",
    "    hidden_states = outputs.hidden_states  # Tuple of hidden states from each layer\n",
    "\n",
    "    # Extract embeddings for each target word from each layer\n",
    "    embeddings_word1 = [hidden_states[layer][0, idx].detach().numpy() for layer in range(len(hidden_states)) for idx in indices_word1]\n",
    "    embeddings_word2 = [hidden_states[layer][0, idx].detach().numpy() for layer in range(len(hidden_states)) for idx in indices_word2]\n",
    "\n",
    "    return embeddings_word1, embeddings_word2"
   ]
  },
  {
   "cell_type": "code",
   "execution_count": 120,
   "metadata": {},
   "outputs": [],
   "source": [
    "# Load tokenizer and model\n",
    "tokenizer = GPT2Tokenizer.from_pretrained('gpt2')\n",
    "model = GPT2Model.from_pretrained('gpt2', output_hidden_states=True)"
   ]
  },
  {
   "cell_type": "code",
   "execution_count": 121,
   "metadata": {},
   "outputs": [
    {
     "data": {
      "text/html": [
       "<div>\n",
       "<style scoped>\n",
       "    .dataframe tbody tr th:only-of-type {\n",
       "        vertical-align: middle;\n",
       "    }\n",
       "\n",
       "    .dataframe tbody tr th {\n",
       "        vertical-align: top;\n",
       "    }\n",
       "\n",
       "    .dataframe thead th {\n",
       "        text-align: right;\n",
       "    }\n",
       "</style>\n",
       "<table border=\"1\" class=\"dataframe\">\n",
       "  <thead>\n",
       "    <tr style=\"text-align: right;\">\n",
       "      <th></th>\n",
       "      <th>lemma</th>\n",
       "      <th>PoS</th>\n",
       "      <th>freq</th>\n",
       "      <th>synonym</th>\n",
       "      <th>synset</th>\n",
       "    </tr>\n",
       "    <tr>\n",
       "      <th>rank</th>\n",
       "      <th></th>\n",
       "      <th></th>\n",
       "      <th></th>\n",
       "      <th></th>\n",
       "      <th></th>\n",
       "    </tr>\n",
       "  </thead>\n",
       "  <tbody>\n",
       "    <tr>\n",
       "      <th>26</th>\n",
       "      <td>say</td>\n",
       "      <td>v</td>\n",
       "      <td>4096416</td>\n",
       "      <td>tell</td>\n",
       "      <td>Synset('state.v.01')</td>\n",
       "    </tr>\n",
       "    <tr>\n",
       "      <th>31</th>\n",
       "      <td>go</td>\n",
       "      <td>v</td>\n",
       "      <td>3546732</td>\n",
       "      <td>belong</td>\n",
       "      <td>Synset('belong.v.03')</td>\n",
       "    </tr>\n",
       "    <tr>\n",
       "      <th>34</th>\n",
       "      <td>get</td>\n",
       "      <td>v</td>\n",
       "      <td>3347615</td>\n",
       "      <td>convey</td>\n",
       "      <td>Synset('bring.v.04')</td>\n",
       "    </tr>\n",
       "    <tr>\n",
       "      <th>39</th>\n",
       "      <td>know</td>\n",
       "      <td>v</td>\n",
       "      <td>2761628</td>\n",
       "      <td>NaN</td>\n",
       "      <td>NaN</td>\n",
       "    </tr>\n",
       "    <tr>\n",
       "      <th>49</th>\n",
       "      <td>would</td>\n",
       "      <td>v</td>\n",
       "      <td>2349400</td>\n",
       "      <td>NaN</td>\n",
       "      <td>NaN</td>\n",
       "    </tr>\n",
       "  </tbody>\n",
       "</table>\n",
       "</div>"
      ],
      "text/plain": [
       "      lemma PoS     freq synonym                 synset\n",
       "rank                                                   \n",
       "26      say   v  4096416    tell   Synset('state.v.01')\n",
       "31       go   v  3546732  belong  Synset('belong.v.03')\n",
       "34      get   v  3347615  convey   Synset('bring.v.04')\n",
       "39     know   v  2761628     NaN                    NaN\n",
       "49    would   v  2349400     NaN                    NaN"
      ]
     },
     "execution_count": 121,
     "metadata": {},
     "output_type": "execute_result"
    }
   ],
   "source": [
    "df = pd.read_csv(\"5000_synonym.csv\", index_col = \"rank\")\n",
    "df.head()"
   ]
  },
  {
   "cell_type": "code",
   "execution_count": 124,
   "metadata": {},
   "outputs": [],
   "source": [
    "# Example usage\n",
    "pos = \"nouns\"\n",
    "word1 = \"blend\"\n",
    "word2 = \"go\"\n",
    "sentence = \"What is the similarity between {0} {1} and {2}\".format(pos, word1, word2)\n",
    "embeddings_word1, embeddings_word2 = get_word_embeddings(sentence, word1, word2, tokenizer, model)"
   ]
  },
  {
   "cell_type": "code",
   "execution_count": 125,
   "metadata": {},
   "outputs": [],
   "source": [
    "c = cosine_similarity(embeddings_word1, embeddings_word2)"
   ]
  },
  {
   "cell_type": "code",
   "execution_count": 126,
   "metadata": {},
   "outputs": [
    {
     "data": {
      "text/plain": [
       "Text(0, 0.5, 'Cosine Similarity')"
      ]
     },
     "execution_count": 126,
     "metadata": {},
     "output_type": "execute_result"
    },
    {
     "data": {
      "image/png": "[encoded data removed]",
      "text/plain": [
       "<Figure size 1000x400 with 1 Axes>"
      ]
     },
     "metadata": {},
     "output_type": "display_data"
    }
   ],
   "source": [
    "plt.figure(figsize=(10,4))\n",
    "plt.title(\"Cosine Similarity across Layers\")\n",
    "plt.plot(c)\n",
    "plt.xlabel(\"Layers\")\n",
    "plt.ylabel(\"Cosine Similarity\")\n",
    "# plt.ylim([0.5, 1.05])"
   ]
  },
  {
   "cell_type": "code",
   "execution_count": 127,
   "metadata": {},
   "outputs": [
    {
     "data": {
      "text/plain": [
       "[0.6899750828742981,\n",
       " 0.7094007134437561,\n",
       " 0.6313362717628479,\n",
       " 0.5925931334495544,\n",
       " 0.5448496341705322,\n",
       " 0.549034833908081,\n",
       " 0.5403095483779907,\n",
       " 0.5462290048599243,\n",
       " 0.5909442901611328,\n",
       " 0.6078193783760071,\n",
       " 0.6966626644134521,\n",
       " 0.8317318558692932,\n",
       " 0.9910957217216492]"
      ]
     },
     "execution_count": 127,
     "metadata": {},
     "output_type": "execute_result"
    }
   ],
   "source": [
    "c"
   ]
  },
  {
   "cell_type": "code",
   "execution_count": null,
   "metadata": {},
   "outputs": [],
   "source": []
  }
 ],
 "metadata": {
  "kernelspec": {
   "display_name": "general",
   "language": "python",
   "name": "python3"
  },
  "language_info": {
   "codemirror_mode": {
    "name": "ipython",
    "version": 3
   },
   "file_extension": ".py",
   "mimetype": "text/x-python",
   "name": "python",
   "nbconvert_exporter": "python",
   "pygments_lexer": "ipython3",
   "version": "3.11.4"
  }
 },
 "nbformat": 4,
 "nbformat_minor": 2
}
