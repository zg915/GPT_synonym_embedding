{
 "cells": [
  {
   "cell_type": "code",
   "execution_count": 79,
   "metadata": {},
   "outputs": [],
   "source": [
    "from transformers import GPT2Model, GPT2Tokenizer\n",
    "import pandas as pd\n",
    "import numpy as np\n",
    "import torch"
   ]
  },
  {
   "cell_type": "code",
   "execution_count": 80,
   "metadata": {},
   "outputs": [],
   "source": [
    "def cosine_similarity(tensor_list1, tensor_list2):\n",
    "    if len(tensor_list1) != len(tensor_list2):\n",
    "        raise ValueError(\"Both tensor lists must have the same length.\")\n",
    "    \n",
    "    similarities = []\n",
    "    for u, v in zip(tensor_list1, tensor_list2):\n",
    "        # Ensure the tensors are floats for dot product calculation\n",
    "        u, v = u.float(), v.float()\n",
    "        dot_product = torch.dot(u, v)\n",
    "        norm_u = torch.norm(u)\n",
    "        norm_v = torch.norm(v)\n",
    "        if norm_u.item() == 0 or norm_v.item() == 0:\n",
    "            similarity = 0.0  # Avoid division by zero\n",
    "        else:\n",
    "            similarity = dot_product / (norm_u * norm_v)\n",
    "        similarities.append(similarity)\n",
    "    \n",
    "    return similarities"
   ]
  },
  {
   "cell_type": "code",
   "execution_count": 81,
   "metadata": {},
   "outputs": [],
   "source": [
    "# Load tokenizer and model\n",
    "tokenizer = GPT2Tokenizer.from_pretrained('gpt2')\n",
    "model = GPT2Model.from_pretrained('gpt2', output_hidden_states=True)"
   ]
  },
  {
   "cell_type": "code",
   "execution_count": 82,
   "metadata": {},
   "outputs": [
    {
     "data": {
      "text/html": [
       "<div>\n",
       "<style scoped>\n",
       "    .dataframe tbody tr th:only-of-type {\n",
       "        vertical-align: middle;\n",
       "    }\n",
       "\n",
       "    .dataframe tbody tr th {\n",
       "        vertical-align: top;\n",
       "    }\n",
       "\n",
       "    .dataframe thead th {\n",
       "        text-align: right;\n",
       "    }\n",
       "</style>\n",
       "<table border=\"1\" class=\"dataframe\">\n",
       "  <thead>\n",
       "    <tr style=\"text-align: right;\">\n",
       "      <th></th>\n",
       "      <th>lemma</th>\n",
       "      <th>PoS</th>\n",
       "      <th>freq</th>\n",
       "      <th>synonym</th>\n",
       "      <th>synset</th>\n",
       "    </tr>\n",
       "    <tr>\n",
       "      <th>rank</th>\n",
       "      <th></th>\n",
       "      <th></th>\n",
       "      <th></th>\n",
       "      <th></th>\n",
       "      <th></th>\n",
       "    </tr>\n",
       "  </thead>\n",
       "  <tbody>\n",
       "    <tr>\n",
       "      <th>26</th>\n",
       "      <td>say</td>\n",
       "      <td>v</td>\n",
       "      <td>4096416</td>\n",
       "      <td>tell</td>\n",
       "      <td>Synset('state.v.01')</td>\n",
       "    </tr>\n",
       "    <tr>\n",
       "      <th>31</th>\n",
       "      <td>go</td>\n",
       "      <td>v</td>\n",
       "      <td>3546732</td>\n",
       "      <td>belong</td>\n",
       "      <td>Synset('belong.v.03')</td>\n",
       "    </tr>\n",
       "    <tr>\n",
       "      <th>34</th>\n",
       "      <td>get</td>\n",
       "      <td>v</td>\n",
       "      <td>3347615</td>\n",
       "      <td>convey</td>\n",
       "      <td>Synset('bring.v.04')</td>\n",
       "    </tr>\n",
       "    <tr>\n",
       "      <th>39</th>\n",
       "      <td>know</td>\n",
       "      <td>v</td>\n",
       "      <td>2761628</td>\n",
       "      <td>NaN</td>\n",
       "      <td>NaN</td>\n",
       "    </tr>\n",
       "    <tr>\n",
       "      <th>49</th>\n",
       "      <td>would</td>\n",
       "      <td>v</td>\n",
       "      <td>2349400</td>\n",
       "      <td>NaN</td>\n",
       "      <td>NaN</td>\n",
       "    </tr>\n",
       "  </tbody>\n",
       "</table>\n",
       "</div>"
      ],
      "text/plain": [
       "      lemma PoS     freq synonym                 synset\n",
       "rank                                                   \n",
       "26      say   v  4096416    tell   Synset('state.v.01')\n",
       "31       go   v  3546732  belong  Synset('belong.v.03')\n",
       "34      get   v  3347615  convey   Synset('bring.v.04')\n",
       "39     know   v  2761628     NaN                    NaN\n",
       "49    would   v  2349400     NaN                    NaN"
      ]
     },
     "execution_count": 82,
     "metadata": {},
     "output_type": "execute_result"
    }
   ],
   "source": [
    "df = pd.read_csv(\"5000_synonym.csv\", index_col = \"rank\")\n",
    "df.head()"
   ]
  },
  {
   "cell_type": "code",
   "execution_count": 89,
   "metadata": {},
   "outputs": [],
   "source": [
    "# Tokenize input text\n",
    "text = \"go\"  # replace 'example' with your specific word\n",
    "inputs = tokenizer(text, return_tensors=\"pt\")\n",
    "\n",
    "# Get all hidden states\n",
    "outputs = model(**inputs)\n",
    "hidden_states = outputs.hidden_states\n",
    "\n",
    "# Access the embeddings for the first token of the input\n",
    "# For a single word input, this typically corresponds to the embeddings of the word\n",
    "say_embeddings = [layer[0][0] for layer in hidden_states]"
   ]
  },
  {
   "cell_type": "code",
   "execution_count": 90,
   "metadata": {},
   "outputs": [],
   "source": [
    "# Tokenize input text\n",
    "text = \"blend\"  # replace 'example' with your specific word\n",
    "inputs = tokenizer(text, return_tensors=\"pt\")\n",
    "\n",
    "# Get all hidden states\n",
    "outputs = model(**inputs)\n",
    "hidden_states = outputs.hidden_states\n",
    "\n",
    "# Access the embeddings for the first token of the input\n",
    "# For a single word input, this typically corresponds to the embeddings of the word\n",
    "bedroom_embeddings = [layer[0][0] for layer in hidden_states]"
   ]
  },
  {
   "cell_type": "code",
   "execution_count": 91,
   "metadata": {},
   "outputs": [
    {
     "data": {
      "text/plain": [
       "[tensor(0.9063, grad_fn=<DivBackward0>),\n",
       " tensor(0.9731, grad_fn=<DivBackward0>),\n",
       " tensor(0.9991, grad_fn=<DivBackward0>),\n",
       " tensor(0.9999, grad_fn=<DivBackward0>),\n",
       " tensor(1.0000, grad_fn=<DivBackward0>),\n",
       " tensor(1.0000, grad_fn=<DivBackward0>),\n",
       " tensor(1.0000, grad_fn=<DivBackward0>),\n",
       " tensor(1.0000, grad_fn=<DivBackward0>),\n",
       " tensor(1.0000, grad_fn=<DivBackward0>),\n",
       " tensor(1.0000, grad_fn=<DivBackward0>),\n",
       " tensor(1.0000, grad_fn=<DivBackward0>),\n",
       " tensor(1.0000, grad_fn=<DivBackward0>),\n",
       " tensor(0.9946, grad_fn=<DivBackward0>)]"
      ]
     },
     "execution_count": 91,
     "metadata": {},
     "output_type": "execute_result"
    }
   ],
   "source": [
    "cosine_similarity(say_embeddings, bedroom_embeddings)"
   ]
  },
  {
   "cell_type": "code",
   "execution_count": null,
   "metadata": {},
   "outputs": [],
   "source": []
  }
 ],
 "metadata": {
  "kernelspec": {
   "display_name": "general",
   "language": "python",
   "name": "python3"
  },
  "language_info": {
   "codemirror_mode": {
    "name": "ipython",
    "version": 3
   },
   "file_extension": ".py",
   "mimetype": "text/x-python",
   "name": "python",
   "nbconvert_exporter": "python",
   "pygments_lexer": "ipython3",
   "version": "3.11.4"
  }
 },
 "nbformat": 4,
 "nbformat_minor": 2
}
