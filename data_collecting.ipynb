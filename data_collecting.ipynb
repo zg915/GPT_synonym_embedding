{
 "cells": [
  {
   "cell_type": "code",
   "execution_count": 16,
   "metadata": {},
   "outputs": [],
   "source": [
    "import pandas as pd\n",
    "import numpy as np\n",
    "from nltk.corpus import wordnet as wn\n",
    "from nltk.corpus import stopwords\n",
    "import random"
   ]
  },
  {
   "cell_type": "markdown",
   "metadata": {},
   "source": [
    "#### Load Data"
   ]
  },
  {
   "cell_type": "code",
   "execution_count": 17,
   "metadata": {},
   "outputs": [],
   "source": [
    "df = pd.read_excel(\"wordFrequency.xlsx\", sheet_name = \"1 lemmas\", index_col = \"rank\")\n",
    "df = df[[\"lemma\", \"PoS\", \"freq\"]]"
   ]
  },
  {
   "cell_type": "markdown",
   "metadata": {},
   "source": [
    "#### Filter Data\n",
    "##### drop stop words and non n. v. adj. adv. words"
   ]
  },
  {
   "cell_type": "code",
   "execution_count": 18,
   "metadata": {},
   "outputs": [],
   "source": [
    "stop_words = set(stopwords.words('english'))\n",
    "df = df[~df[\"lemma\"].isin(stop_words)]\n",
    "df = df[df[\"PoS\"].isin([\"n\", \"v\", \"j\", \"r\"])]\n",
    "df[\"PoS\"] = df[\"PoS\"].replace({\"n\": wn.NOUN, \"v\": wn.VERB, \"j\": wn.ADJ, \"r\": wn.ADV})\n",
    "df[\"synonym\"] = None\n",
    "df[\"synset\"] = None"
   ]
  },
  {
   "cell_type": "code",
   "execution_count": 19,
   "metadata": {},
   "outputs": [],
   "source": [
    "def get_synonym(word, pos):\n",
    "    for _ in range(5):\n",
    "        try:\n",
    "            synset = random.choice(wn.synsets(word, pos))\n",
    "            lemmas = [lemma.name() for lemma in synset.lemmas() if \"_\" not in lemma.name()]\n",
    "            lemmas.remove(word)\n",
    "            return random.choice(lemmas), synset\n",
    "        except:\n",
    "            pass\n",
    "    return None, None"
   ]
  },
  {
   "cell_type": "code",
   "execution_count": 9,
   "metadata": {},
   "outputs": [],
   "source": [
    "for idx, row in df.iterrows():\n",
    "    df.loc[idx, \"synonym\"], df.loc[idx, \"synset\"] = get_synonym(df.loc[idx, \"lemma\"], df.loc[idx, \"PoS\"])"
   ]
  },
  {
   "cell_type": "code",
   "execution_count": 10,
   "metadata": {},
   "outputs": [],
   "source": [
    "df.to_csv(\"5000_synonym.csv\")"
   ]
  },
  {
   "cell_type": "code",
   "execution_count": 11,
   "metadata": {},
   "outputs": [
    {
     "name": "stdout",
     "output_type": "stream",
     "text": [
      "['open fire', 'fire']\n"
     ]
    }
   ],
   "source": [
    "def get_lemmas_from_synset_id(synset_id):\n",
    "    # Fetch the synset using its ID\n",
    "    synset = wn.synset(synset_id)\n",
    "    # Extract and return the lemmas as words\n",
    "    return [lemma.name().replace('_', ' ') for lemma in synset.lemmas()]\n",
    "\n",
    "# Example usage\n",
    "lemmas = get_lemmas_from_synset_id('open_fire.v.01')\n",
    "print(lemmas)"
   ]
  },
  {
   "cell_type": "code",
   "execution_count": 15,
   "metadata": {},
   "outputs": [
    {
     "data": {
      "text/plain": [
       "[Lemma('sleep_together.v.01.sleep_together'),\n",
       " Lemma('sleep_together.v.01.roll_in_the_hay'),\n",
       " Lemma('sleep_together.v.01.love'),\n",
       " Lemma('sleep_together.v.01.make_out'),\n",
       " Lemma('sleep_together.v.01.make_love'),\n",
       " Lemma('sleep_together.v.01.sleep_with'),\n",
       " Lemma('sleep_together.v.01.get_laid'),\n",
       " Lemma('sleep_together.v.01.have_sex'),\n",
       " Lemma('sleep_together.v.01.know'),\n",
       " Lemma('sleep_together.v.01.do_it'),\n",
       " Lemma('sleep_together.v.01.be_intimate'),\n",
       " Lemma('sleep_together.v.01.have_intercourse'),\n",
       " Lemma('sleep_together.v.01.have_it_away'),\n",
       " Lemma('sleep_together.v.01.have_it_off'),\n",
       " Lemma('sleep_together.v.01.screw'),\n",
       " Lemma('sleep_together.v.01.fuck'),\n",
       " Lemma('sleep_together.v.01.jazz'),\n",
       " Lemma('sleep_together.v.01.eff'),\n",
       " Lemma('sleep_together.v.01.hump'),\n",
       " Lemma('sleep_together.v.01.lie_with'),\n",
       " Lemma('sleep_together.v.01.bed'),\n",
       " Lemma('sleep_together.v.01.have_a_go_at_it'),\n",
       " Lemma('sleep_together.v.01.bang'),\n",
       " Lemma('sleep_together.v.01.get_it_on'),\n",
       " Lemma('sleep_together.v.01.bonk')]"
      ]
     },
     "execution_count": 15,
     "metadata": {},
     "output_type": "execute_result"
    }
   ],
   "source": [
    "wn.synsets(\"fuck\", \"v\")[0].lemmas()"
   ]
  },
  {
   "cell_type": "code",
   "execution_count": 39,
   "metadata": {},
   "outputs": [
    {
     "data": {
      "text/plain": [
       "('blend', Synset('blend.v.02'))"
      ]
     },
     "execution_count": 39,
     "metadata": {},
     "output_type": "execute_result"
    }
   ],
   "source": [
    "get_synonym(\"go\", \"v\")"
   ]
  },
  {
   "cell_type": "code",
   "execution_count": null,
   "metadata": {},
   "outputs": [],
   "source": []
  },
  {
   "cell_type": "code",
   "execution_count": null,
   "metadata": {},
   "outputs": [],
   "source": []
  }
 ],
 "metadata": {
  "kernelspec": {
   "display_name": "general",
   "language": "python",
   "name": "python3"
  },
  "language_info": {
   "codemirror_mode": {
    "name": "ipython",
    "version": 3
   },
   "file_extension": ".py",
   "mimetype": "text/x-python",
   "name": "python",
   "nbconvert_exporter": "python",
   "pygments_lexer": "ipython3",
   "version": "3.11.4"
  }
 },
 "nbformat": 4,
 "nbformat_minor": 2
}
