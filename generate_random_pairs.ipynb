{
 "cells": [
  {
   "cell_type": "code",
   "execution_count": 9,
   "metadata": {},
   "outputs": [],
   "source": [
    "import pandas as pd\n",
    "import numpy as np\n",
    "import nltk\n",
    "from nltk.corpus import wordnet as wn\n",
    "from nltk.corpus import stopwords\n",
    "import random"
   ]
  },
  {
   "cell_type": "markdown",
   "metadata": {},
   "source": [
    "### Download data"
   ]
  },
  {
   "cell_type": "code",
   "execution_count": 10,
   "metadata": {},
   "outputs": [
    {
     "name": "stderr",
     "output_type": "stream",
     "text": [
      "[nltk_data] Downloading package wordnet to\n",
      "[nltk_data]     /Users/tianyuwu/nltk_data...\n"
     ]
    },
    {
     "data": {
      "text/plain": [
       "True"
      ]
     },
     "execution_count": 10,
     "metadata": {},
     "output_type": "execute_result"
    }
   ],
   "source": [
    "nltk.download('wordnet')"
   ]
  },
  {
   "cell_type": "markdown",
   "metadata": {},
   "source": [
    "### Load target words"
   ]
  },
  {
   "cell_type": "code",
   "execution_count": 3,
   "metadata": {},
   "outputs": [],
   "source": [
    "words = pd.read_csv('data/5000_synonym.csv')"
   ]
  },
  {
   "cell_type": "code",
   "execution_count": 31,
   "metadata": {},
   "outputs": [
    {
     "data": {
      "text/plain": [
       "('say', 'v')"
      ]
     },
     "execution_count": 31,
     "metadata": {},
     "output_type": "execute_result"
    }
   ],
   "source": [
    "target_words = list(zip(words['lemma'], words['PoS']))\n",
    "target_words[0]"
   ]
  },
  {
   "cell_type": "code",
   "execution_count": 27,
   "metadata": {},
   "outputs": [
    {
     "data": {
      "text/plain": [
       "4702"
      ]
     },
     "execution_count": 27,
     "metadata": {},
     "output_type": "execute_result"
    }
   ],
   "source": [
    "len(target_words)"
   ]
  },
  {
   "cell_type": "markdown",
   "metadata": {},
   "source": [
    "### Collect words from WordNet by PoS"
   ]
  },
  {
   "cell_type": "code",
   "execution_count": 34,
   "metadata": {},
   "outputs": [],
   "source": [
    "def get_random_word_by_pos(pos, target_word):\n",
    "    synsets = list(wn.all_synsets(pos))\n",
    "    if synsets:\n",
    "        while True:\n",
    "            random_synset = random.choice(synsets)\n",
    "            random_word = random_synset.lemmas()[0].name()\n",
    "            if random_word != target_word: \n",
    "                return random_word\n",
    "    return None"
   ]
  },
  {
   "cell_type": "code",
   "execution_count": 36,
   "metadata": {},
   "outputs": [
    {
     "data": {
      "text/plain": [
       "'minister'"
      ]
     },
     "execution_count": 36,
     "metadata": {},
     "output_type": "execute_result"
    }
   ],
   "source": [
    "w = get_random_word_by_pos('v', 'say')\n",
    "w"
   ]
  },
  {
   "cell_type": "code",
   "execution_count": 37,
   "metadata": {},
   "outputs": [],
   "source": [
    "# Map data labels to WordNet labels\n",
    "pos_map = {\n",
    "    'n': 'n',\n",
    "    'v': 'v',\n",
    "    'j': 'a',\n",
    "    'r': 'r',\n",
    "}"
   ]
  },
  {
   "cell_type": "markdown",
   "metadata": {},
   "source": [
    "### Pairing"
   ]
  },
  {
   "cell_type": "code",
   "execution_count": 49,
   "metadata": {},
   "outputs": [],
   "source": [
    "generated_words = []\n",
    "\n",
    "for word, pos in target_words[0:99]:\n",
    "    wordnet_pos = pos_map.get(pos)\n",
    "\n",
    "    if wordnet_pos:\n",
    "        random_word = get_random_word_by_pos(wordnet_pos, word)\n",
    "        if random_word:\n",
    "            generated_words.append((random_word, pos))\n",
    "        else:\n",
    "            generated_words.append((None, pos))\n",
    "    else:\n",
    "        generated_words.append((None, pos))"
   ]
  },
  {
   "cell_type": "code",
   "execution_count": 50,
   "metadata": {},
   "outputs": [
    {
     "data": {
      "text/plain": [
       "[('buoy', 'v'),\n",
       " ('guesstimate', 'v'),\n",
       " ('spool', 'v'),\n",
       " ('foil', 'v'),\n",
       " ('draw', 'v'),\n",
       " ('pull_up_short', 'v'),\n",
       " ('turn', 'v'),\n",
       " ('Ovibos', 'n'),\n",
       " ('cinch', 'v'),\n",
       " ('azure', 'v'),\n",
       " ('Sri_Lanka', 'n'),\n",
       " ('ring_up', 'v'),\n",
       " ('Yiddish', 'n'),\n",
       " ('mark_down', 'v'),\n",
       " ('agonize', 'v'),\n",
       " ('resile', 'v'),\n",
       " ('Acherontia', 'n'),\n",
       " ('franchise_tax', 'n'),\n",
       " ('inexorably', 'r'),\n",
       " ('possibly', 'r'),\n",
       " ('harmonize', 'v'),\n",
       " ('goose', 'v'),\n",
       " (None, 'a'),\n",
       " ('night-blooming_cereus', 'n'),\n",
       " ('exposure', 'n'),\n",
       " ('hype_up', 'v'),\n",
       " ('consume', 'v'),\n",
       " (None, 'a'),\n",
       " ('nasalize', 'v'),\n",
       " ('at_a_loss', 'r'),\n",
       " ('unevenly', 'r'),\n",
       " ('apologetically', 'r'),\n",
       " ('bereave', 'v'),\n",
       " ('bomblet', 'n'),\n",
       " ('phylogenetically', 'r'),\n",
       " ('sit', 'v'),\n",
       " ('cut', 'v'),\n",
       " ('picture', 'v'),\n",
       " ('grand_slam', 'n'),\n",
       " ('fancy', 'v'),\n",
       " ('backstage', 'r'),\n",
       " ('charge', 'v'),\n",
       " ('desperately', 'r'),\n",
       " ('American_water_shrew', 'n'),\n",
       " ('allegorize', 'v'),\n",
       " (None, 'a'),\n",
       " ('nightshade', 'n'),\n",
       " ('forbear', 'v'),\n",
       " ('capsicum', 'n'),\n",
       " ('piece_of_leather', 'n'),\n",
       " ('saber', 'v'),\n",
       " ('hemstitch', 'v'),\n",
       " ('pass', 'v'),\n",
       " ('mulch', 'v'),\n",
       " ('upstage', 'v'),\n",
       " ('misdirect', 'v'),\n",
       " (None, 'a'),\n",
       " ('sew', 'v'),\n",
       " (None, 'a'),\n",
       " ('transpire', 'v'),\n",
       " ('kneel', 'v'),\n",
       " ('Jones', 'n'),\n",
       " ('fusion', 'n'),\n",
       " (None, 'a'),\n",
       " ('jujube', 'n'),\n",
       " ('observe', 'v'),\n",
       " ('battle_cruiser', 'n'),\n",
       " ('prove', 'v'),\n",
       " ('guard', 'v'),\n",
       " ('Kolam', 'n'),\n",
       " ('smirk', 'v'),\n",
       " ('checkout_line', 'n'),\n",
       " ('ion', 'n'),\n",
       " ('cut_off', 'v'),\n",
       " ('antiquary', 'n'),\n",
       " ('instantaneously', 'r'),\n",
       " ('pen', 'n'),\n",
       " ('wanter', 'n'),\n",
       " ('corruptness', 'n'),\n",
       " ('silhouette', 'v'),\n",
       " ('honk', 'v'),\n",
       " ('Memphis', 'n'),\n",
       " ('tighten', 'v'),\n",
       " ('Psoralea', 'n'),\n",
       " ('gasoline', 'n'),\n",
       " ('phosphatase', 'n'),\n",
       " ('reflux', 'n'),\n",
       " ('bugle', 'n'),\n",
       " ('hash_out', 'v'),\n",
       " ('angel', 'n'),\n",
       " ('Syracuse', 'n'),\n",
       " ('mapquest', 'v'),\n",
       " ('execute', 'v'),\n",
       " ('pistol', 'n'),\n",
       " ('Olympian_Games', 'n'),\n",
       " ('miotic_drug', 'n'),\n",
       " ('striped_skunk', 'n'),\n",
       " ('slick', 'n'),\n",
       " ('Weissbier', 'n')]"
      ]
     },
     "execution_count": 50,
     "metadata": {},
     "output_type": "execute_result"
    }
   ],
   "source": [
    "generated_words"
   ]
  }
 ],
 "metadata": {
  "kernelspec": {
   "display_name": "base",
   "language": "python",
   "name": "python3"
  },
  "language_info": {
   "codemirror_mode": {
    "name": "ipython",
    "version": 3
   },
   "file_extension": ".py",
   "mimetype": "text/x-python",
   "name": "python",
   "nbconvert_exporter": "python",
   "pygments_lexer": "ipython3",
   "version": "3.10.13"
  }
 },
 "nbformat": 4,
 "nbformat_minor": 2
}
