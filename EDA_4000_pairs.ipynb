{
 "cells": [
  {
   "cell_type": "code",
   "execution_count": 1,
   "metadata": {},
   "outputs": [],
   "source": [
    "import pandas as pd\n",
    "import matplotlib.pylab as plt\n",
    "from scipy.stats import shapiro\n",
    "from scipy import stats"
   ]
  },
  {
   "cell_type": "code",
   "execution_count": 2,
   "metadata": {},
   "outputs": [],
   "source": [
    "df = pd.read_csv('data/4000_complete_data.csv')"
   ]
  },
  {
   "cell_type": "code",
   "execution_count": 3,
   "metadata": {},
   "outputs": [
    {
     "data": {
      "text/html": [
       "<div>\n",
       "<style scoped>\n",
       "    .dataframe tbody tr th:only-of-type {\n",
       "        vertical-align: middle;\n",
       "    }\n",
       "\n",
       "    .dataframe tbody tr th {\n",
       "        vertical-align: top;\n",
       "    }\n",
       "\n",
       "    .dataframe thead th {\n",
       "        text-align: right;\n",
       "    }\n",
       "</style>\n",
       "<table border=\"1\" class=\"dataframe\">\n",
       "  <thead>\n",
       "    <tr style=\"text-align: right;\">\n",
       "      <th></th>\n",
       "      <th>rank</th>\n",
       "      <th>lemma</th>\n",
       "      <th>PoS</th>\n",
       "      <th>freq</th>\n",
       "      <th>synonym</th>\n",
       "      <th>synset</th>\n",
       "      <th>random</th>\n",
       "      <th>synonym_similarity_left</th>\n",
       "      <th>synonym_similarity_right</th>\n",
       "      <th>synonym_similarity</th>\n",
       "      <th>random_similarity_left</th>\n",
       "      <th>random_similarity_right</th>\n",
       "      <th>random_similarity</th>\n",
       "    </tr>\n",
       "  </thead>\n",
       "  <tbody>\n",
       "    <tr>\n",
       "      <th>0</th>\n",
       "      <td>26</td>\n",
       "      <td>say</td>\n",
       "      <td>v</td>\n",
       "      <td>4096416</td>\n",
       "      <td>tell</td>\n",
       "      <td>Synset('order.v.01')</td>\n",
       "      <td>blanket</td>\n",
       "      <td>0.792683</td>\n",
       "      <td>0.785402</td>\n",
       "      <td>0.789042</td>\n",
       "      <td>0.612346</td>\n",
       "      <td>0.621714</td>\n",
       "      <td>0.617030</td>\n",
       "    </tr>\n",
       "    <tr>\n",
       "      <th>1</th>\n",
       "      <td>31</td>\n",
       "      <td>go</td>\n",
       "      <td>v</td>\n",
       "      <td>3546732</td>\n",
       "      <td>start</td>\n",
       "      <td>Synset('start.v.09')</td>\n",
       "      <td>blank</td>\n",
       "      <td>0.718980</td>\n",
       "      <td>0.710389</td>\n",
       "      <td>0.714685</td>\n",
       "      <td>0.592116</td>\n",
       "      <td>0.595401</td>\n",
       "      <td>0.593759</td>\n",
       "    </tr>\n",
       "    <tr>\n",
       "      <th>2</th>\n",
       "      <td>34</td>\n",
       "      <td>get</td>\n",
       "      <td>v</td>\n",
       "      <td>3347615</td>\n",
       "      <td>acquire</td>\n",
       "      <td>Synset('get.v.01')</td>\n",
       "      <td>overhaul</td>\n",
       "      <td>0.764049</td>\n",
       "      <td>0.767176</td>\n",
       "      <td>0.765613</td>\n",
       "      <td>0.672227</td>\n",
       "      <td>0.664227</td>\n",
       "      <td>0.668227</td>\n",
       "    </tr>\n",
       "    <tr>\n",
       "      <th>3</th>\n",
       "      <td>39</td>\n",
       "      <td>know</td>\n",
       "      <td>v</td>\n",
       "      <td>2761628</td>\n",
       "      <td>recognise</td>\n",
       "      <td>Synset('acknowledge.v.06')</td>\n",
       "      <td>chisel</td>\n",
       "      <td>0.762813</td>\n",
       "      <td>0.771491</td>\n",
       "      <td>0.767152</td>\n",
       "      <td>0.694732</td>\n",
       "      <td>0.695436</td>\n",
       "      <td>0.695084</td>\n",
       "    </tr>\n",
       "    <tr>\n",
       "      <th>4</th>\n",
       "      <td>50</td>\n",
       "      <td>make</td>\n",
       "      <td>v</td>\n",
       "      <td>2290830</td>\n",
       "      <td>get</td>\n",
       "      <td>Synset('make.v.02')</td>\n",
       "      <td>tickle</td>\n",
       "      <td>0.758087</td>\n",
       "      <td>0.768161</td>\n",
       "      <td>0.763124</td>\n",
       "      <td>0.678154</td>\n",
       "      <td>0.688789</td>\n",
       "      <td>0.683472</td>\n",
       "    </tr>\n",
       "  </tbody>\n",
       "</table>\n",
       "</div>"
      ],
      "text/plain": [
       "   rank lemma PoS     freq    synonym                      synset    random  \\\n",
       "0    26   say   v  4096416       tell        Synset('order.v.01')   blanket   \n",
       "1    31    go   v  3546732      start        Synset('start.v.09')     blank   \n",
       "2    34   get   v  3347615    acquire          Synset('get.v.01')  overhaul   \n",
       "3    39  know   v  2761628  recognise  Synset('acknowledge.v.06')    chisel   \n",
       "4    50  make   v  2290830        get         Synset('make.v.02')    tickle   \n",
       "\n",
       "   synonym_similarity_left  synonym_similarity_right  synonym_similarity  \\\n",
       "0                 0.792683                  0.785402            0.789042   \n",
       "1                 0.718980                  0.710389            0.714685   \n",
       "2                 0.764049                  0.767176            0.765613   \n",
       "3                 0.762813                  0.771491            0.767152   \n",
       "4                 0.758087                  0.768161            0.763124   \n",
       "\n",
       "   random_similarity_left  random_similarity_right  random_similarity  \n",
       "0                0.612346                 0.621714           0.617030  \n",
       "1                0.592116                 0.595401           0.593759  \n",
       "2                0.672227                 0.664227           0.668227  \n",
       "3                0.694732                 0.695436           0.695084  \n",
       "4                0.678154                 0.688789           0.683472  "
      ]
     },
     "execution_count": 3,
     "metadata": {},
     "output_type": "execute_result"
    }
   ],
   "source": [
    "df.head()"
   ]
  },
  {
   "cell_type": "code",
   "execution_count": 4,
   "metadata": {},
   "outputs": [],
   "source": [
    "df[\"synonym_similarity\"] = (df[\"synonym_similarity_left\"] + df[\"synonym_similarity_right\"]) / 2\n",
    "df[\"random_similarity\"] = (df[\"random_similarity_left\"] + df[\"random_similarity_right\"]) / 2\n",
    "eda_df = pd.concat([df['PoS'], df[\"synonym_similarity\"], df[\"random_similarity\"]], axis=1)"
   ]
  },
  {
   "cell_type": "code",
   "execution_count": 5,
   "metadata": {},
   "outputs": [
    {
     "data": {
      "text/html": [
       "<div>\n",
       "<style scoped>\n",
       "    .dataframe tbody tr th:only-of-type {\n",
       "        vertical-align: middle;\n",
       "    }\n",
       "\n",
       "    .dataframe tbody tr th {\n",
       "        vertical-align: top;\n",
       "    }\n",
       "\n",
       "    .dataframe thead th {\n",
       "        text-align: right;\n",
       "    }\n",
       "</style>\n",
       "<table border=\"1\" class=\"dataframe\">\n",
       "  <thead>\n",
       "    <tr style=\"text-align: right;\">\n",
       "      <th></th>\n",
       "      <th>PoS</th>\n",
       "      <th>synonym_similarity</th>\n",
       "      <th>random_similarity</th>\n",
       "    </tr>\n",
       "  </thead>\n",
       "  <tbody>\n",
       "    <tr>\n",
       "      <th>0</th>\n",
       "      <td>v</td>\n",
       "      <td>0.789042</td>\n",
       "      <td>0.617030</td>\n",
       "    </tr>\n",
       "    <tr>\n",
       "      <th>1</th>\n",
       "      <td>v</td>\n",
       "      <td>0.714685</td>\n",
       "      <td>0.593759</td>\n",
       "    </tr>\n",
       "    <tr>\n",
       "      <th>2</th>\n",
       "      <td>v</td>\n",
       "      <td>0.765613</td>\n",
       "      <td>0.668227</td>\n",
       "    </tr>\n",
       "    <tr>\n",
       "      <th>3</th>\n",
       "      <td>v</td>\n",
       "      <td>0.767152</td>\n",
       "      <td>0.695084</td>\n",
       "    </tr>\n",
       "    <tr>\n",
       "      <th>4</th>\n",
       "      <td>v</td>\n",
       "      <td>0.763124</td>\n",
       "      <td>0.683472</td>\n",
       "    </tr>\n",
       "  </tbody>\n",
       "</table>\n",
       "</div>"
      ],
      "text/plain": [
       "  PoS  synonym_similarity  random_similarity\n",
       "0   v            0.789042           0.617030\n",
       "1   v            0.714685           0.593759\n",
       "2   v            0.765613           0.668227\n",
       "3   v            0.767152           0.695084\n",
       "4   v            0.763124           0.683472"
      ]
     },
     "execution_count": 5,
     "metadata": {},
     "output_type": "execute_result"
    }
   ],
   "source": [
    "eda_df.head()"
   ]
  },
  {
   "cell_type": "code",
   "execution_count": 6,
   "metadata": {},
   "outputs": [
    {
     "data": {
      "image/png": "[encoded data removed]",
      "text/plain": [
       "<Figure size 640x480 with 1 Axes>"
      ]
     },
     "metadata": {},
     "output_type": "display_data"
    }
   ],
   "source": [
    "plt.hist(df[\"synonym_similarity\"], bins = 100, alpha = 0.5, label=\"synonym\")\n",
    "plt.hist(df[\"random_similarity\"], bins = 100, alpha = 0.5, label=\"random\")\n",
    "plt.legend()\n",
    "plt.show()"
   ]
  },
  {
   "cell_type": "markdown",
   "metadata": {},
   "source": [
    "### Hypothesis testing to discover the difference"
   ]
  },
  {
   "cell_type": "code",
   "execution_count": 7,
   "metadata": {},
   "outputs": [
    {
     "name": "stdout",
     "output_type": "stream",
     "text": [
      "ShapiroResult(statistic=0.9901533722877502, pvalue=5.10387325664604e-16) ShapiroResult(statistic=0.9982354044914246, pvalue=0.00019567761046346277)\n"
     ]
    }
   ],
   "source": [
    "# Check normality of two groups\n",
    "shapiro_test_syn = shapiro(df[\"synonym_similarity\"])\n",
    "shapiro_test_rand = shapiro(df[\"random_similarity\"])\n",
    "print(shapiro_test_syn, shapiro_test_rand)"
   ]
  },
  {
   "cell_type": "markdown",
   "metadata": {},
   "source": [
    "Two groups are not normally distributed, and the groups are independent. Use U-test to test if GPT has higher similarity on synonym than random pairs."
   ]
  },
  {
   "cell_type": "markdown",
   "metadata": {},
   "source": [
    "H0: Synonym pairs have equal similarity as random pairs.<br>\n",
    "Ha: Synonym pairs have higher similarity than random pairs."
   ]
  },
  {
   "cell_type": "code",
   "execution_count": 8,
   "metadata": {},
   "outputs": [
    {
     "name": "stdout",
     "output_type": "stream",
     "text": [
      "13271956.5 0.0\n"
     ]
    }
   ],
   "source": [
    "u_statistic, p_value = stats.mannwhitneyu(df[\"synonym_similarity\"], df[\"random_similarity\"], \\\n",
    "                                          alternative='greater')\n",
    "print(u_statistic, p_value)"
   ]
  },
  {
   "cell_type": "markdown",
   "metadata": {},
   "source": [
    "Test result is significant. We reject the null hypothesis, showing synonym pairs have higher similarity than random pairs."
   ]
  },
  {
   "cell_type": "markdown",
   "metadata": {},
   "source": [
    "### Difference between pairs' similarities group by PoS"
   ]
  },
  {
   "cell_type": "code",
   "execution_count": 9,
   "metadata": {},
   "outputs": [
    {
     "data": {
      "text/plain": [
       "PoS\n",
       "n    2231\n",
       "v     900\n",
       "a     639\n",
       "r     212\n",
       "Name: count, dtype: int64"
      ]
     },
     "execution_count": 9,
     "metadata": {},
     "output_type": "execute_result"
    }
   ],
   "source": [
    "df['PoS'].value_counts()"
   ]
  },
  {
   "cell_type": "markdown",
   "metadata": {},
   "source": [
    "We have different PoS group sizes in Synonym and Random pairs."
   ]
  },
  {
   "cell_type": "markdown",
   "metadata": {},
   "source": [
    "#### Difference between similarities group by PoS (Synonym pairs)"
   ]
  },
  {
   "cell_type": "code",
   "execution_count": 10,
   "metadata": {},
   "outputs": [
    {
     "name": "stdout",
     "output_type": "stream",
     "text": [
      "ShapiroResult(statistic=0.9913840293884277, pvalue=3.019094418910129e-10)\n"
     ]
    }
   ],
   "source": [
    "# Check normality\n",
    "shapiro_test_syn_n = shapiro(eda_df[eda_df['PoS'] == 'n'][\"synonym_similarity\"])\n",
    "print(shapiro_test_syn_n)"
   ]
  },
  {
   "cell_type": "markdown",
   "metadata": {},
   "source": [
    "Violate normality. Use Kruskal-Wallis test."
   ]
  },
  {
   "cell_type": "markdown",
   "metadata": {},
   "source": [
    "H0: In synonym pairs, there is no difference of similarity across PoS.<br>\n",
    "Ha: There are differences."
   ]
  },
  {
   "cell_type": "code",
   "execution_count": 11,
   "metadata": {},
   "outputs": [
    {
     "name": "stdout",
     "output_type": "stream",
     "text": [
      "72.40530599280669 1.3034409000510606e-15\n"
     ]
    }
   ],
   "source": [
    "from scipy.stats import kruskal\n",
    "\n",
    "grouped_syn = [eda_df[eda_df['PoS'] == pos]['synonym_similarity'] for pos in eda_df['PoS'].unique()]\n",
    "h_statistic, p_value = kruskal(*grouped_syn)\n",
    "\n",
    "print(h_statistic, p_value)"
   ]
  },
  {
   "cell_type": "markdown",
   "metadata": {},
   "source": [
    "P-value smaller than 0.05. Reject the null. There are differences.<br><br>\n",
    "Let's find out which groups are different."
   ]
  },
  {
   "cell_type": "code",
   "execution_count": 13,
   "metadata": {},
   "outputs": [
    {
     "name": "stdout",
     "output_type": "stream",
     "text": [
      "              a             n             r             v\n",
      "a  1.000000e+00  1.000000e+00  1.975867e-01  8.377589e-09\n",
      "n  1.000000e+00  1.000000e+00  3.795940e-02  2.592166e-12\n",
      "r  1.975867e-01  3.795940e-02  1.000000e+00  1.589827e-09\n",
      "v  8.377589e-09  2.592166e-12  1.589827e-09  1.000000e+00\n"
     ]
    }
   ],
   "source": [
    "import scikit_posthocs as sp\n",
    "\n",
    "dunn_test_results = sp.posthoc_dunn(eda_df, val_col='synonym_similarity', group_col='PoS', p_adjust='bonferroni')\n",
    "\n",
    "print(dunn_test_results)"
   ]
  },
  {
   "cell_type": "markdown",
   "metadata": {},
   "source": [
    "There are differences in (a vs v), (n vs r), (n vs v), (r vs v)."
   ]
  },
  {
   "cell_type": "markdown",
   "metadata": {},
   "source": [
    "Since the Kruskal-Wallis and Dunn’s tests are non-parametric tests based on ranks, we want to look at median similarities for each PoS."
   ]
  },
  {
   "cell_type": "code",
   "execution_count": 16,
   "metadata": {},
   "outputs": [
    {
     "data": {
      "text/plain": [
       "PoS\n",
       "r    0.767477\n",
       "n    0.757765\n",
       "a    0.754154\n",
       "v    0.735873\n",
       "Name: synonym_similarity, dtype: float64"
      ]
     },
     "execution_count": 16,
     "metadata": {},
     "output_type": "execute_result"
    }
   ],
   "source": [
    "median_similarity_syn = eda_df.groupby('PoS')['synonym_similarity'].median().sort_values(ascending=False)\n",
    "median_similarity_syn"
   ]
  },
  {
   "cell_type": "markdown",
   "metadata": {},
   "source": [
    "Results show that r (adverbs) has the highest median similarity, followed by n (nouns), a (adjectives), and v (verbs). It indicates that when scoring similarity in synonym word pairs, GPT would give adverbs with higher scores and verbs with lower ones."
   ]
  }
 ],
 "metadata": {
  "kernelspec": {
   "display_name": "base",
   "language": "python",
   "name": "python3"
  },
  "language_info": {
   "codemirror_mode": {
    "name": "ipython",
    "version": 3
   },
   "file_extension": ".py",
   "mimetype": "text/x-python",
   "name": "python",
   "nbconvert_exporter": "python",
   "pygments_lexer": "ipython3",
   "version": "3.10.13"
  }
 },
 "nbformat": 4,
 "nbformat_minor": 2
}
